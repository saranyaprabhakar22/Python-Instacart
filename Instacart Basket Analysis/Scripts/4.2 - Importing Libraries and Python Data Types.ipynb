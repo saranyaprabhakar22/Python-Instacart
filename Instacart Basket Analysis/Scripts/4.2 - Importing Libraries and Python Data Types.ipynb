{
 "cells": [
  {
   "cell_type": "markdown",
   "id": "3ff0f074",
   "metadata": {},
   "source": [
    "# 01. Importing libraries"
   ]
  },
  {
   "cell_type": "code",
   "execution_count": 1,
   "id": "8a8eab08",
   "metadata": {},
   "outputs": [],
   "source": [
    "# Import libraries\n",
    "import pandas as pd\n",
    "import numpy as np\n",
    "import os"
   ]
  },
  {
   "cell_type": "markdown",
   "id": "2c0c7b40",
   "metadata": {},
   "source": [
    "# 02. Python Data Types"
   ]
  },
  {
   "cell_type": "markdown",
   "id": "ab38b412",
   "metadata": {},
   "source": [
    "# Question 7:"
   ]
  },
  {
   "cell_type": "code",
   "execution_count": 2,
   "id": "5f0b0c83",
   "metadata": {},
   "outputs": [],
   "source": [
    "a = 50"
   ]
  },
  {
   "cell_type": "code",
   "execution_count": 3,
   "id": "474e8689",
   "metadata": {},
   "outputs": [],
   "source": [
    "b = 150"
   ]
  },
  {
   "cell_type": "code",
   "execution_count": 5,
   "id": "a2699aa3",
   "metadata": {},
   "outputs": [],
   "source": [
    "c = b - a"
   ]
  },
  {
   "cell_type": "code",
   "execution_count": 6,
   "id": "f45835ff",
   "metadata": {},
   "outputs": [
    {
     "name": "stdout",
     "output_type": "stream",
     "text": [
      "100\n"
     ]
    }
   ],
   "source": [
    "print(c)"
   ]
  },
  {
   "cell_type": "code",
   "execution_count": 15,
   "id": "fe716285",
   "metadata": {},
   "outputs": [],
   "source": [
    "d = a * 2"
   ]
  },
  {
   "cell_type": "code",
   "execution_count": 16,
   "id": "710ad832",
   "metadata": {},
   "outputs": [
    {
     "name": "stdout",
     "output_type": "stream",
     "text": [
      "100\n"
     ]
    }
   ],
   "source": [
    "print(d)"
   ]
  },
  {
   "cell_type": "code",
   "execution_count": 21,
   "id": "b38ade34",
   "metadata": {},
   "outputs": [],
   "source": [
    "e = a + 50"
   ]
  },
  {
   "cell_type": "code",
   "execution_count": 22,
   "id": "7dce9dd1",
   "metadata": {},
   "outputs": [
    {
     "name": "stdout",
     "output_type": "stream",
     "text": [
      "100\n"
     ]
    }
   ],
   "source": [
    "print(e)"
   ]
  },
  {
   "cell_type": "markdown",
   "id": "ced824bc",
   "metadata": {},
   "source": [
    "# Question 8:"
   ]
  },
  {
   "cell_type": "code",
   "execution_count": 23,
   "id": "3235180a",
   "metadata": {},
   "outputs": [],
   "source": [
    "f = 65.734"
   ]
  },
  {
   "cell_type": "code",
   "execution_count": 24,
   "id": "9a12e9a7",
   "metadata": {},
   "outputs": [],
   "source": [
    "g = 3.25"
   ]
  },
  {
   "cell_type": "code",
   "execution_count": 25,
   "id": "9feef79c",
   "metadata": {},
   "outputs": [],
   "source": [
    "h = f/g"
   ]
  },
  {
   "cell_type": "code",
   "execution_count": 26,
   "id": "4ddb7edf",
   "metadata": {},
   "outputs": [
    {
     "name": "stdout",
     "output_type": "stream",
     "text": [
      "20.225846153846152\n"
     ]
    }
   ],
   "source": [
    "print(h)"
   ]
  },
  {
   "cell_type": "markdown",
   "id": "b0d4fa22",
   "metadata": {},
   "source": [
    "# Question 9:"
   ]
  },
  {
   "cell_type": "code",
   "execution_count": 27,
   "id": "4e995fa0",
   "metadata": {},
   "outputs": [],
   "source": [
    "x = 'Good '"
   ]
  },
  {
   "cell_type": "code",
   "execution_count": 28,
   "id": "36a3e688",
   "metadata": {},
   "outputs": [],
   "source": [
    "y = 'Morning'"
   ]
  },
  {
   "cell_type": "code",
   "execution_count": 30,
   "id": "6fa4199b",
   "metadata": {},
   "outputs": [
    {
     "data": {
      "text/plain": [
       "'Good Morning'"
      ]
     },
     "execution_count": 30,
     "metadata": {},
     "output_type": "execute_result"
    }
   ],
   "source": [
    " x + y"
   ]
  },
  {
   "cell_type": "markdown",
   "id": "910c1a31",
   "metadata": {},
   "source": [
    "# Question 10:"
   ]
  },
  {
   "cell_type": "code",
   "execution_count": 31,
   "id": "2530cb0d",
   "metadata": {},
   "outputs": [],
   "source": [
    "x = 'Hope you are doing fine! '"
   ]
  },
  {
   "cell_type": "code",
   "execution_count": 32,
   "id": "5cb618a1",
   "metadata": {},
   "outputs": [],
   "source": [
    "y = 'Have a nice day!'"
   ]
  },
  {
   "cell_type": "code",
   "execution_count": 33,
   "id": "ec299f5a",
   "metadata": {},
   "outputs": [
    {
     "data": {
      "text/plain": [
       "'Hope you are doing fine! Have a nice day!'"
      ]
     },
     "execution_count": 33,
     "metadata": {},
     "output_type": "execute_result"
    }
   ],
   "source": [
    "x + y"
   ]
  },
  {
   "cell_type": "markdown",
   "id": "88c2791f",
   "metadata": {},
   "source": [
    "# Bonus task"
   ]
  },
  {
   "cell_type": "code",
   "execution_count": 34,
   "id": "9e9d6427",
   "metadata": {},
   "outputs": [],
   "source": [
    "z = 'Hello'"
   ]
  },
  {
   "cell_type": "code",
   "execution_count": 35,
   "id": "4b315f0b",
   "metadata": {},
   "outputs": [
    {
     "data": {
      "text/plain": [
       "'HelloHelloHelloHelloHelloHelloHelloHelloHelloHelloHelloHelloHelloHelloHelloHelloHelloHelloHelloHelloHelloHelloHelloHelloHelloHelloHelloHelloHelloHelloHelloHelloHelloHelloHelloHelloHelloHelloHelloHelloHelloHelloHelloHelloHelloHelloHelloHelloHelloHelloHelloHelloHelloHelloHelloHelloHelloHelloHelloHelloHelloHelloHelloHelloHelloHelloHelloHelloHelloHelloHelloHelloHelloHelloHelloHelloHelloHelloHelloHelloHelloHelloHelloHelloHelloHelloHelloHelloHelloHelloHelloHelloHelloHelloHelloHelloHelloHelloHelloHello'"
      ]
     },
     "execution_count": 35,
     "metadata": {},
     "output_type": "execute_result"
    }
   ],
   "source": [
    "z * 100"
   ]
  }
 ],
 "metadata": {
  "kernelspec": {
   "display_name": "Python 3 (ipykernel)",
   "language": "python",
   "name": "python3"
  },
  "language_info": {
   "codemirror_mode": {
    "name": "ipython",
    "version": 3
   },
   "file_extension": ".py",
   "mimetype": "text/x-python",
   "name": "python",
   "nbconvert_exporter": "python",
   "pygments_lexer": "ipython3",
   "version": "3.11.5"
  }
 },
 "nbformat": 4,
 "nbformat_minor": 5
}
