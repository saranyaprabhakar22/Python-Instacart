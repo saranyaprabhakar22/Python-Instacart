{
 "cells": [
  {
   "cell_type": "markdown",
   "id": "a47de0ea",
   "metadata": {},
   "source": [
    "# Table of Contents\n",
    "\n",
    "# 1. Import Libraries & Data\n",
    "\n",
    "# 2. Merge department data and the normal revenue customers data.\n",
    "\n",
    "# 3. Create a profiling variable\n",
    "\n",
    "# 4. Export Data\n",
    "\n",
    "# 5. Distribution of Profiles - Visualization\n",
    "\n",
    "# 6. Aggregate the max, min and mean variables\n",
    "\n",
    "# 7. Compare the customer profiles"
   ]
  },
  {
   "cell_type": "markdown",
   "id": "37c579d2",
   "metadata": {},
   "source": [
    "# 1. Import Libraries & Data"
   ]
  },
  {
   "cell_type": "code",
   "execution_count": 1,
   "id": "d0a79795",
   "metadata": {},
   "outputs": [],
   "source": [
    "# Importing libraries\n",
    "\n",
    "import pandas as pd\n",
    "import numpy as np\n",
    "import os\n",
    "import matplotlib.pyplot as plt\n",
    "import seaborn as sns\n",
    "import scipy"
   ]
  },
  {
   "cell_type": "code",
   "execution_count": 2,
   "id": "09a3f7d7",
   "metadata": {},
   "outputs": [],
   "source": [
    "# Create path to import the datasets\n",
    "\n",
    "path = r'C:\\Users\\srira\\OneDrive\\Documents\\Instacart Basket Analysis'"
   ]
  },
  {
   "cell_type": "code",
   "execution_count": 3,
   "id": "740c7940",
   "metadata": {},
   "outputs": [],
   "source": [
    "# Importing dataset normal_revenue_customers.pkl\n",
    "\n",
    "df_merge = pd.read_pickle(os.path.join(path, 'Data', 'Prepared Data', 'normal_revenue_customers.pkl'))"
   ]
  },
  {
   "cell_type": "code",
   "execution_count": 4,
   "id": "cf9c4b4e",
   "metadata": {},
   "outputs": [
    {
     "data": {
      "text/plain": [
       "(30964564, 33)"
      ]
     },
     "execution_count": 4,
     "metadata": {},
     "output_type": "execute_result"
    }
   ],
   "source": [
    "df_merge.shape"
   ]
  },
  {
   "cell_type": "code",
   "execution_count": 5,
   "id": "a824e814",
   "metadata": {},
   "outputs": [
    {
     "data": {
      "text/html": [
       "<div>\n",
       "<style scoped>\n",
       "    .dataframe tbody tr th:only-of-type {\n",
       "        vertical-align: middle;\n",
       "    }\n",
       "\n",
       "    .dataframe tbody tr th {\n",
       "        vertical-align: top;\n",
       "    }\n",
       "\n",
       "    .dataframe thead th {\n",
       "        text-align: right;\n",
       "    }\n",
       "</style>\n",
       "<table border=\"1\" class=\"dataframe\">\n",
       "  <thead>\n",
       "    <tr style=\"text-align: right;\">\n",
       "      <th></th>\n",
       "      <th>order_id</th>\n",
       "      <th>user_id</th>\n",
       "      <th>order_number</th>\n",
       "      <th>orders_days_of_week</th>\n",
       "      <th>order_hour_of_day</th>\n",
       "      <th>days_since_prior_order</th>\n",
       "      <th>product_id</th>\n",
       "      <th>add_to_cart_order</th>\n",
       "      <th>reordered</th>\n",
       "      <th>product_name</th>\n",
       "      <th>...</th>\n",
       "      <th>Gender</th>\n",
       "      <th>State</th>\n",
       "      <th>Age</th>\n",
       "      <th>date_joined</th>\n",
       "      <th>Number_of_dependants</th>\n",
       "      <th>Family_Status</th>\n",
       "      <th>income</th>\n",
       "      <th>_merge</th>\n",
       "      <th>Region</th>\n",
       "      <th>Activity flag</th>\n",
       "    </tr>\n",
       "  </thead>\n",
       "  <tbody>\n",
       "    <tr>\n",
       "      <th>0</th>\n",
       "      <td>2539329</td>\n",
       "      <td>1</td>\n",
       "      <td>1</td>\n",
       "      <td>2</td>\n",
       "      <td>8</td>\n",
       "      <td>NaN</td>\n",
       "      <td>196</td>\n",
       "      <td>1</td>\n",
       "      <td>0</td>\n",
       "      <td>Soda</td>\n",
       "      <td>...</td>\n",
       "      <td>Female</td>\n",
       "      <td>Alabama</td>\n",
       "      <td>31</td>\n",
       "      <td>2/17/2019</td>\n",
       "      <td>3</td>\n",
       "      <td>married</td>\n",
       "      <td>40423</td>\n",
       "      <td>both</td>\n",
       "      <td>South</td>\n",
       "      <td>Normal activity</td>\n",
       "    </tr>\n",
       "    <tr>\n",
       "      <th>1</th>\n",
       "      <td>2398795</td>\n",
       "      <td>1</td>\n",
       "      <td>2</td>\n",
       "      <td>3</td>\n",
       "      <td>7</td>\n",
       "      <td>15.0</td>\n",
       "      <td>196</td>\n",
       "      <td>1</td>\n",
       "      <td>1</td>\n",
       "      <td>Soda</td>\n",
       "      <td>...</td>\n",
       "      <td>Female</td>\n",
       "      <td>Alabama</td>\n",
       "      <td>31</td>\n",
       "      <td>2/17/2019</td>\n",
       "      <td>3</td>\n",
       "      <td>married</td>\n",
       "      <td>40423</td>\n",
       "      <td>both</td>\n",
       "      <td>South</td>\n",
       "      <td>Normal activity</td>\n",
       "    </tr>\n",
       "    <tr>\n",
       "      <th>2</th>\n",
       "      <td>473747</td>\n",
       "      <td>1</td>\n",
       "      <td>3</td>\n",
       "      <td>3</td>\n",
       "      <td>12</td>\n",
       "      <td>21.0</td>\n",
       "      <td>196</td>\n",
       "      <td>1</td>\n",
       "      <td>1</td>\n",
       "      <td>Soda</td>\n",
       "      <td>...</td>\n",
       "      <td>Female</td>\n",
       "      <td>Alabama</td>\n",
       "      <td>31</td>\n",
       "      <td>2/17/2019</td>\n",
       "      <td>3</td>\n",
       "      <td>married</td>\n",
       "      <td>40423</td>\n",
       "      <td>both</td>\n",
       "      <td>South</td>\n",
       "      <td>Normal activity</td>\n",
       "    </tr>\n",
       "    <tr>\n",
       "      <th>3</th>\n",
       "      <td>2254736</td>\n",
       "      <td>1</td>\n",
       "      <td>4</td>\n",
       "      <td>4</td>\n",
       "      <td>7</td>\n",
       "      <td>29.0</td>\n",
       "      <td>196</td>\n",
       "      <td>1</td>\n",
       "      <td>1</td>\n",
       "      <td>Soda</td>\n",
       "      <td>...</td>\n",
       "      <td>Female</td>\n",
       "      <td>Alabama</td>\n",
       "      <td>31</td>\n",
       "      <td>2/17/2019</td>\n",
       "      <td>3</td>\n",
       "      <td>married</td>\n",
       "      <td>40423</td>\n",
       "      <td>both</td>\n",
       "      <td>South</td>\n",
       "      <td>Normal activity</td>\n",
       "    </tr>\n",
       "    <tr>\n",
       "      <th>4</th>\n",
       "      <td>431534</td>\n",
       "      <td>1</td>\n",
       "      <td>5</td>\n",
       "      <td>4</td>\n",
       "      <td>15</td>\n",
       "      <td>28.0</td>\n",
       "      <td>196</td>\n",
       "      <td>1</td>\n",
       "      <td>1</td>\n",
       "      <td>Soda</td>\n",
       "      <td>...</td>\n",
       "      <td>Female</td>\n",
       "      <td>Alabama</td>\n",
       "      <td>31</td>\n",
       "      <td>2/17/2019</td>\n",
       "      <td>3</td>\n",
       "      <td>married</td>\n",
       "      <td>40423</td>\n",
       "      <td>both</td>\n",
       "      <td>South</td>\n",
       "      <td>Normal activity</td>\n",
       "    </tr>\n",
       "  </tbody>\n",
       "</table>\n",
       "<p>5 rows × 33 columns</p>\n",
       "</div>"
      ],
      "text/plain": [
       "   order_id user_id  order_number  orders_days_of_week  order_hour_of_day  \\\n",
       "0   2539329       1             1                    2                  8   \n",
       "1   2398795       1             2                    3                  7   \n",
       "2    473747       1             3                    3                 12   \n",
       "3   2254736       1             4                    4                  7   \n",
       "4    431534       1             5                    4                 15   \n",
       "\n",
       "   days_since_prior_order  product_id  add_to_cart_order  reordered  \\\n",
       "0                     NaN         196                  1          0   \n",
       "1                    15.0         196                  1          1   \n",
       "2                    21.0         196                  1          1   \n",
       "3                    29.0         196                  1          1   \n",
       "4                    28.0         196                  1          1   \n",
       "\n",
       "  product_name  ...  Gender    State  Age date_joined Number_of_dependants  \\\n",
       "0         Soda  ...  Female  Alabama   31   2/17/2019                    3   \n",
       "1         Soda  ...  Female  Alabama   31   2/17/2019                    3   \n",
       "2         Soda  ...  Female  Alabama   31   2/17/2019                    3   \n",
       "3         Soda  ...  Female  Alabama   31   2/17/2019                    3   \n",
       "4         Soda  ...  Female  Alabama   31   2/17/2019                    3   \n",
       "\n",
       "  Family_Status income  _merge Region    Activity flag  \n",
       "0       married  40423    both  South  Normal activity  \n",
       "1       married  40423    both  South  Normal activity  \n",
       "2       married  40423    both  South  Normal activity  \n",
       "3       married  40423    both  South  Normal activity  \n",
       "4       married  40423    both  South  Normal activity  \n",
       "\n",
       "[5 rows x 33 columns]"
      ]
     },
     "execution_count": 5,
     "metadata": {},
     "output_type": "execute_result"
    }
   ],
   "source": [
    "df_merge.head()"
   ]
  },
  {
   "cell_type": "code",
   "execution_count": 6,
   "id": "4cdf6bf5",
   "metadata": {},
   "outputs": [],
   "source": [
    "# Importing dataset departments_wrangled.csv\n",
    "\n",
    "df_dept = pd.read_csv(os.path.join(path, 'Data', 'Prepared Data', 'departments_wrangled.csv'))"
   ]
  },
  {
   "cell_type": "code",
   "execution_count": 7,
   "id": "723d0fc1",
   "metadata": {},
   "outputs": [
    {
     "data": {
      "text/plain": [
       "(21, 2)"
      ]
     },
     "execution_count": 7,
     "metadata": {},
     "output_type": "execute_result"
    }
   ],
   "source": [
    "df_dept.shape"
   ]
  },
  {
   "cell_type": "code",
   "execution_count": 8,
   "id": "09bc8b94",
   "metadata": {},
   "outputs": [
    {
     "data": {
      "text/html": [
       "<div>\n",
       "<style scoped>\n",
       "    .dataframe tbody tr th:only-of-type {\n",
       "        vertical-align: middle;\n",
       "    }\n",
       "\n",
       "    .dataframe tbody tr th {\n",
       "        vertical-align: top;\n",
       "    }\n",
       "\n",
       "    .dataframe thead th {\n",
       "        text-align: right;\n",
       "    }\n",
       "</style>\n",
       "<table border=\"1\" class=\"dataframe\">\n",
       "  <thead>\n",
       "    <tr style=\"text-align: right;\">\n",
       "      <th></th>\n",
       "      <th>Unnamed: 0</th>\n",
       "      <th>department</th>\n",
       "    </tr>\n",
       "  </thead>\n",
       "  <tbody>\n",
       "    <tr>\n",
       "      <th>0</th>\n",
       "      <td>1</td>\n",
       "      <td>frozen</td>\n",
       "    </tr>\n",
       "    <tr>\n",
       "      <th>1</th>\n",
       "      <td>2</td>\n",
       "      <td>other</td>\n",
       "    </tr>\n",
       "    <tr>\n",
       "      <th>2</th>\n",
       "      <td>3</td>\n",
       "      <td>bakery</td>\n",
       "    </tr>\n",
       "    <tr>\n",
       "      <th>3</th>\n",
       "      <td>4</td>\n",
       "      <td>produce</td>\n",
       "    </tr>\n",
       "    <tr>\n",
       "      <th>4</th>\n",
       "      <td>5</td>\n",
       "      <td>alcohol</td>\n",
       "    </tr>\n",
       "  </tbody>\n",
       "</table>\n",
       "</div>"
      ],
      "text/plain": [
       "   Unnamed: 0 department\n",
       "0           1     frozen\n",
       "1           2      other\n",
       "2           3     bakery\n",
       "3           4    produce\n",
       "4           5    alcohol"
      ]
     },
     "execution_count": 8,
     "metadata": {},
     "output_type": "execute_result"
    }
   ],
   "source": [
    "df_dept.head()"
   ]
  },
  {
   "cell_type": "code",
   "execution_count": 9,
   "id": "665239ff",
   "metadata": {},
   "outputs": [],
   "source": [
    "# Renaming the column 'Unnamed: 0' to 'department_id'\n",
    "\n",
    "df_dept.rename(columns = {'Unnamed: 0' : 'department_id'}, inplace = True)"
   ]
  },
  {
   "cell_type": "code",
   "execution_count": 10,
   "id": "9503fe71",
   "metadata": {},
   "outputs": [
    {
     "data": {
      "text/html": [
       "<div>\n",
       "<style scoped>\n",
       "    .dataframe tbody tr th:only-of-type {\n",
       "        vertical-align: middle;\n",
       "    }\n",
       "\n",
       "    .dataframe tbody tr th {\n",
       "        vertical-align: top;\n",
       "    }\n",
       "\n",
       "    .dataframe thead th {\n",
       "        text-align: right;\n",
       "    }\n",
       "</style>\n",
       "<table border=\"1\" class=\"dataframe\">\n",
       "  <thead>\n",
       "    <tr style=\"text-align: right;\">\n",
       "      <th></th>\n",
       "      <th>department_id</th>\n",
       "      <th>department</th>\n",
       "    </tr>\n",
       "  </thead>\n",
       "  <tbody>\n",
       "    <tr>\n",
       "      <th>0</th>\n",
       "      <td>1</td>\n",
       "      <td>frozen</td>\n",
       "    </tr>\n",
       "    <tr>\n",
       "      <th>1</th>\n",
       "      <td>2</td>\n",
       "      <td>other</td>\n",
       "    </tr>\n",
       "    <tr>\n",
       "      <th>2</th>\n",
       "      <td>3</td>\n",
       "      <td>bakery</td>\n",
       "    </tr>\n",
       "    <tr>\n",
       "      <th>3</th>\n",
       "      <td>4</td>\n",
       "      <td>produce</td>\n",
       "    </tr>\n",
       "    <tr>\n",
       "      <th>4</th>\n",
       "      <td>5</td>\n",
       "      <td>alcohol</td>\n",
       "    </tr>\n",
       "  </tbody>\n",
       "</table>\n",
       "</div>"
      ],
      "text/plain": [
       "   department_id department\n",
       "0              1     frozen\n",
       "1              2      other\n",
       "2              3     bakery\n",
       "3              4    produce\n",
       "4              5    alcohol"
      ]
     },
     "execution_count": 10,
     "metadata": {},
     "output_type": "execute_result"
    }
   ],
   "source": [
    "# Check the output\n",
    "\n",
    "df_dept.head()"
   ]
  },
  {
   "cell_type": "code",
   "execution_count": 11,
   "id": "9f35960f",
   "metadata": {},
   "outputs": [
    {
     "name": "stdout",
     "output_type": "stream",
     "text": [
      "<class 'pandas.core.frame.DataFrame'>\n",
      "Index: 30964564 entries, 0 to 32404854\n",
      "Data columns (total 33 columns):\n",
      " #   Column                  Dtype   \n",
      "---  ------                  -----   \n",
      " 0   order_id                int64   \n",
      " 1   user_id                 object  \n",
      " 2   order_number            int64   \n",
      " 3   orders_days_of_week     int64   \n",
      " 4   order_hour_of_day       int64   \n",
      " 5   days_since_prior_order  float64 \n",
      " 6   product_id              int64   \n",
      " 7   add_to_cart_order       int64   \n",
      " 8   reordered               int64   \n",
      " 9   product_name            object  \n",
      " 10  aisle_id                int64   \n",
      " 11  department_id           int64   \n",
      " 12  prices                  float64 \n",
      " 13  price_range_loc         object  \n",
      " 14  busiest day             object  \n",
      " 15  busiest days            object  \n",
      " 16  busiest_period_of_day   object  \n",
      " 17  max_order               int64   \n",
      " 18  loyalty_flag            object  \n",
      " 19  average_price           float64 \n",
      " 20  spending_flag           object  \n",
      " 21  median                  float64 \n",
      " 22  frequency_flag          object  \n",
      " 23  Gender                  object  \n",
      " 24  State                   object  \n",
      " 25  Age                     int64   \n",
      " 26  date_joined             object  \n",
      " 27  Number_of_dependants    int64   \n",
      " 28  Family_Status           object  \n",
      " 29  income                  int64   \n",
      " 30  _merge                  category\n",
      " 31  Region                  object  \n",
      " 32  Activity flag           object  \n",
      "dtypes: category(1), float64(4), int64(13), object(15)\n",
      "memory usage: 7.6+ GB\n"
     ]
    }
   ],
   "source": [
    "# Displays the column names and its data types in the dataset\n",
    "\n",
    "df_merge.info()"
   ]
  },
  {
   "cell_type": "markdown",
   "id": "f3145114",
   "metadata": {},
   "source": [
    "# 2. Merging both the dataframes"
   ]
  },
  {
   "cell_type": "code",
   "execution_count": 12,
   "id": "a3b9cbe6",
   "metadata": {},
   "outputs": [],
   "source": [
    "# Dropping the column '_merge' as it would interfere with the column that would be created with the new merge.\n",
    "\n",
    "df_merge = df_merge.drop(columns = ['_merge'])"
   ]
  },
  {
   "cell_type": "code",
   "execution_count": 13,
   "id": "b22cfc38",
   "metadata": {},
   "outputs": [],
   "source": [
    "# Merging the dataset normal revenue customers and department using 'department_id' as the key\n",
    "\n",
    "df_opd = df_merge.merge(df_dept, on = 'department_id', indicator = True)"
   ]
  },
  {
   "cell_type": "code",
   "execution_count": 14,
   "id": "981d46d3",
   "metadata": {},
   "outputs": [
    {
     "data": {
      "text/plain": [
       "(30964564, 34)"
      ]
     },
     "execution_count": 14,
     "metadata": {},
     "output_type": "execute_result"
    }
   ],
   "source": [
    "df_opd.shape"
   ]
  },
  {
   "cell_type": "code",
   "execution_count": 15,
   "id": "32025ca1",
   "metadata": {},
   "outputs": [
    {
     "data": {
      "text/html": [
       "<div>\n",
       "<style scoped>\n",
       "    .dataframe tbody tr th:only-of-type {\n",
       "        vertical-align: middle;\n",
       "    }\n",
       "\n",
       "    .dataframe tbody tr th {\n",
       "        vertical-align: top;\n",
       "    }\n",
       "\n",
       "    .dataframe thead th {\n",
       "        text-align: right;\n",
       "    }\n",
       "</style>\n",
       "<table border=\"1\" class=\"dataframe\">\n",
       "  <thead>\n",
       "    <tr style=\"text-align: right;\">\n",
       "      <th></th>\n",
       "      <th>order_id</th>\n",
       "      <th>user_id</th>\n",
       "      <th>order_number</th>\n",
       "      <th>orders_days_of_week</th>\n",
       "      <th>order_hour_of_day</th>\n",
       "      <th>days_since_prior_order</th>\n",
       "      <th>product_id</th>\n",
       "      <th>add_to_cart_order</th>\n",
       "      <th>reordered</th>\n",
       "      <th>product_name</th>\n",
       "      <th>...</th>\n",
       "      <th>State</th>\n",
       "      <th>Age</th>\n",
       "      <th>date_joined</th>\n",
       "      <th>Number_of_dependants</th>\n",
       "      <th>Family_Status</th>\n",
       "      <th>income</th>\n",
       "      <th>Region</th>\n",
       "      <th>Activity flag</th>\n",
       "      <th>department</th>\n",
       "      <th>_merge</th>\n",
       "    </tr>\n",
       "  </thead>\n",
       "  <tbody>\n",
       "    <tr>\n",
       "      <th>0</th>\n",
       "      <td>2539329</td>\n",
       "      <td>1</td>\n",
       "      <td>1</td>\n",
       "      <td>2</td>\n",
       "      <td>8</td>\n",
       "      <td>NaN</td>\n",
       "      <td>196</td>\n",
       "      <td>1</td>\n",
       "      <td>0</td>\n",
       "      <td>Soda</td>\n",
       "      <td>...</td>\n",
       "      <td>Alabama</td>\n",
       "      <td>31</td>\n",
       "      <td>2/17/2019</td>\n",
       "      <td>3</td>\n",
       "      <td>married</td>\n",
       "      <td>40423</td>\n",
       "      <td>South</td>\n",
       "      <td>Normal activity</td>\n",
       "      <td>beverages</td>\n",
       "      <td>both</td>\n",
       "    </tr>\n",
       "    <tr>\n",
       "      <th>1</th>\n",
       "      <td>2398795</td>\n",
       "      <td>1</td>\n",
       "      <td>2</td>\n",
       "      <td>3</td>\n",
       "      <td>7</td>\n",
       "      <td>15.0</td>\n",
       "      <td>196</td>\n",
       "      <td>1</td>\n",
       "      <td>1</td>\n",
       "      <td>Soda</td>\n",
       "      <td>...</td>\n",
       "      <td>Alabama</td>\n",
       "      <td>31</td>\n",
       "      <td>2/17/2019</td>\n",
       "      <td>3</td>\n",
       "      <td>married</td>\n",
       "      <td>40423</td>\n",
       "      <td>South</td>\n",
       "      <td>Normal activity</td>\n",
       "      <td>beverages</td>\n",
       "      <td>both</td>\n",
       "    </tr>\n",
       "    <tr>\n",
       "      <th>2</th>\n",
       "      <td>473747</td>\n",
       "      <td>1</td>\n",
       "      <td>3</td>\n",
       "      <td>3</td>\n",
       "      <td>12</td>\n",
       "      <td>21.0</td>\n",
       "      <td>196</td>\n",
       "      <td>1</td>\n",
       "      <td>1</td>\n",
       "      <td>Soda</td>\n",
       "      <td>...</td>\n",
       "      <td>Alabama</td>\n",
       "      <td>31</td>\n",
       "      <td>2/17/2019</td>\n",
       "      <td>3</td>\n",
       "      <td>married</td>\n",
       "      <td>40423</td>\n",
       "      <td>South</td>\n",
       "      <td>Normal activity</td>\n",
       "      <td>beverages</td>\n",
       "      <td>both</td>\n",
       "    </tr>\n",
       "    <tr>\n",
       "      <th>3</th>\n",
       "      <td>2254736</td>\n",
       "      <td>1</td>\n",
       "      <td>4</td>\n",
       "      <td>4</td>\n",
       "      <td>7</td>\n",
       "      <td>29.0</td>\n",
       "      <td>196</td>\n",
       "      <td>1</td>\n",
       "      <td>1</td>\n",
       "      <td>Soda</td>\n",
       "      <td>...</td>\n",
       "      <td>Alabama</td>\n",
       "      <td>31</td>\n",
       "      <td>2/17/2019</td>\n",
       "      <td>3</td>\n",
       "      <td>married</td>\n",
       "      <td>40423</td>\n",
       "      <td>South</td>\n",
       "      <td>Normal activity</td>\n",
       "      <td>beverages</td>\n",
       "      <td>both</td>\n",
       "    </tr>\n",
       "    <tr>\n",
       "      <th>4</th>\n",
       "      <td>431534</td>\n",
       "      <td>1</td>\n",
       "      <td>5</td>\n",
       "      <td>4</td>\n",
       "      <td>15</td>\n",
       "      <td>28.0</td>\n",
       "      <td>196</td>\n",
       "      <td>1</td>\n",
       "      <td>1</td>\n",
       "      <td>Soda</td>\n",
       "      <td>...</td>\n",
       "      <td>Alabama</td>\n",
       "      <td>31</td>\n",
       "      <td>2/17/2019</td>\n",
       "      <td>3</td>\n",
       "      <td>married</td>\n",
       "      <td>40423</td>\n",
       "      <td>South</td>\n",
       "      <td>Normal activity</td>\n",
       "      <td>beverages</td>\n",
       "      <td>both</td>\n",
       "    </tr>\n",
       "  </tbody>\n",
       "</table>\n",
       "<p>5 rows × 34 columns</p>\n",
       "</div>"
      ],
      "text/plain": [
       "   order_id user_id  order_number  orders_days_of_week  order_hour_of_day  \\\n",
       "0   2539329       1             1                    2                  8   \n",
       "1   2398795       1             2                    3                  7   \n",
       "2    473747       1             3                    3                 12   \n",
       "3   2254736       1             4                    4                  7   \n",
       "4    431534       1             5                    4                 15   \n",
       "\n",
       "   days_since_prior_order  product_id  add_to_cart_order  reordered  \\\n",
       "0                     NaN         196                  1          0   \n",
       "1                    15.0         196                  1          1   \n",
       "2                    21.0         196                  1          1   \n",
       "3                    29.0         196                  1          1   \n",
       "4                    28.0         196                  1          1   \n",
       "\n",
       "  product_name  ...    State  Age  date_joined Number_of_dependants  \\\n",
       "0         Soda  ...  Alabama   31    2/17/2019                    3   \n",
       "1         Soda  ...  Alabama   31    2/17/2019                    3   \n",
       "2         Soda  ...  Alabama   31    2/17/2019                    3   \n",
       "3         Soda  ...  Alabama   31    2/17/2019                    3   \n",
       "4         Soda  ...  Alabama   31    2/17/2019                    3   \n",
       "\n",
       "  Family_Status income Region    Activity flag department  _merge  \n",
       "0       married  40423  South  Normal activity  beverages    both  \n",
       "1       married  40423  South  Normal activity  beverages    both  \n",
       "2       married  40423  South  Normal activity  beverages    both  \n",
       "3       married  40423  South  Normal activity  beverages    both  \n",
       "4       married  40423  South  Normal activity  beverages    both  \n",
       "\n",
       "[5 rows x 34 columns]"
      ]
     },
     "execution_count": 15,
     "metadata": {},
     "output_type": "execute_result"
    }
   ],
   "source": [
    "# Check the output\n",
    "\n",
    "df_opd.head(5)\n"
   ]
  },
  {
   "cell_type": "code",
   "execution_count": 16,
   "id": "80e0ca5e",
   "metadata": {},
   "outputs": [
    {
     "data": {
      "text/plain": [
       "_merge\n",
       "both          30964564\n",
       "left_only            0\n",
       "right_only           0\n",
       "Name: count, dtype: int64"
      ]
     },
     "execution_count": 16,
     "metadata": {},
     "output_type": "execute_result"
    }
   ],
   "source": [
    "df_opd['_merge'].value_counts()"
   ]
  },
  {
   "cell_type": "markdown",
   "id": "92eb591b",
   "metadata": {},
   "source": [
    "# 3. Create a profiling variable"
   ]
  },
  {
   "cell_type": "markdown",
   "id": "23ba2752",
   "metadata": {},
   "source": [
    "# Age groups"
   ]
  },
  {
   "cell_type": "code",
   "execution_count": 17,
   "id": "9b6b445a",
   "metadata": {},
   "outputs": [
    {
     "data": {
      "text/plain": [
       "18"
      ]
     },
     "execution_count": 17,
     "metadata": {},
     "output_type": "execute_result"
    }
   ],
   "source": [
    "df_opd['Age'].min()"
   ]
  },
  {
   "cell_type": "code",
   "execution_count": 18,
   "id": "e18be504",
   "metadata": {},
   "outputs": [
    {
     "data": {
      "text/plain": [
       "81"
      ]
     },
     "execution_count": 18,
     "metadata": {},
     "output_type": "execute_result"
    }
   ],
   "source": [
    "df_opd['Age'].max()"
   ]
  },
  {
   "cell_type": "code",
   "execution_count": 19,
   "id": "81c0e520",
   "metadata": {},
   "outputs": [
    {
     "name": "stderr",
     "output_type": "stream",
     "text": [
      "C:\\Users\\srira\\AppData\\Local\\Temp\\ipykernel_4644\\2391875089.py:3: FutureWarning: Setting an item of incompatible dtype is deprecated and will raise in a future error of pandas. Value '18 - 29 years old' has dtype incompatible with float64, please explicitly cast to a compatible dtype first.\n",
      "  df_opd.loc[(df_opd['Age'] >= 18) & (df_opd['Age'] <= 29), 'Age_group'] = '18 - 29 years old'\n"
     ]
    }
   ],
   "source": [
    "# Creating age groups between 18 and 81\n",
    "\n",
    "df_opd.loc[(df_opd['Age'] >= 18) & (df_opd['Age'] <= 29), 'Age_group'] = '18 - 29 years old'"
   ]
  },
  {
   "cell_type": "code",
   "execution_count": 20,
   "id": "1d53adaf",
   "metadata": {},
   "outputs": [],
   "source": [
    "df_opd.loc[(df_opd['Age'] >= 30) & (df_opd['Age'] <= 39), 'Age_group'] = '30 - 39 years old'"
   ]
  },
  {
   "cell_type": "code",
   "execution_count": 21,
   "id": "560dcb4b",
   "metadata": {},
   "outputs": [],
   "source": [
    "df_opd.loc[(df_opd['Age'] >= 40) & (df_opd['Age'] <= 49), 'Age_group'] = '40 - 49 years old'"
   ]
  },
  {
   "cell_type": "code",
   "execution_count": 22,
   "id": "79d32514",
   "metadata": {},
   "outputs": [],
   "source": [
    "df_opd.loc[(df_opd['Age'] >= 50) & (df_opd['Age'] <= 59), 'Age_group'] = '50 - 59 years old'"
   ]
  },
  {
   "cell_type": "code",
   "execution_count": 23,
   "id": "8b83c625",
   "metadata": {},
   "outputs": [],
   "source": [
    "df_opd.loc[(df_opd['Age'] >= 60) & (df_opd['Age'] <= 69), 'Age_group'] = '60 - 69 years old'"
   ]
  },
  {
   "cell_type": "code",
   "execution_count": 24,
   "id": "2e146169",
   "metadata": {},
   "outputs": [],
   "source": [
    "df_opd.loc[(df_opd['Age'] >= 70) & (df_opd['Age'] <= 81), 'Age_group'] = '70 - 81 years old'"
   ]
  },
  {
   "cell_type": "code",
   "execution_count": 25,
   "id": "2f8fb449",
   "metadata": {},
   "outputs": [
    {
     "data": {
      "text/plain": [
       "Age_group\n",
       "18 - 29 years old    5817603\n",
       "70 - 81 years old    5812883\n",
       "40 - 49 years old    4883179\n",
       "30 - 39 years old    4847507\n",
       "50 - 59 years old    4841771\n",
       "60 - 69 years old    4761621\n",
       "Name: count, dtype: int64"
      ]
     },
     "execution_count": 25,
     "metadata": {},
     "output_type": "execute_result"
    }
   ],
   "source": [
    "# Dispplays the counts for each of the age groups\n",
    "\n",
    "df_opd['Age_group'].value_counts(dropna = False)"
   ]
  },
  {
   "cell_type": "markdown",
   "id": "7f7e7466",
   "metadata": {},
   "source": [
    "# Income groups"
   ]
  },
  {
   "cell_type": "code",
   "execution_count": 26,
   "id": "e0720e69",
   "metadata": {},
   "outputs": [
    {
     "data": {
      "text/plain": [
       "25903"
      ]
     },
     "execution_count": 26,
     "metadata": {},
     "output_type": "execute_result"
    }
   ],
   "source": [
    "df_opd['income'].min()"
   ]
  },
  {
   "cell_type": "code",
   "execution_count": 27,
   "id": "81fe1322",
   "metadata": {},
   "outputs": [
    {
     "data": {
      "text/plain": [
       "593901"
      ]
     },
     "execution_count": 27,
     "metadata": {},
     "output_type": "execute_result"
    }
   ],
   "source": [
    "df_opd['income'].max()"
   ]
  },
  {
   "cell_type": "code",
   "execution_count": 28,
   "id": "ac2fb200",
   "metadata": {},
   "outputs": [
    {
     "name": "stderr",
     "output_type": "stream",
     "text": [
      "C:\\Users\\srira\\AppData\\Local\\Temp\\ipykernel_4644\\3502236000.py:3: FutureWarning: Setting an item of incompatible dtype is deprecated and will raise in a future error of pandas. Value 'lower income' has dtype incompatible with float64, please explicitly cast to a compatible dtype first.\n",
      "  df_opd.loc[(df_opd['income'] >= 25000) & (df_opd['income'] <= 100000), 'Income_group'] = 'lower income'\n"
     ]
    }
   ],
   "source": [
    "# Creating income groups between 25903 and 593901\n",
    "\n",
    "df_opd.loc[(df_opd['income'] >= 25000) & (df_opd['income'] <= 100000), 'Income_group'] = 'lower income'"
   ]
  },
  {
   "cell_type": "code",
   "execution_count": 29,
   "id": "13fa36f0",
   "metadata": {},
   "outputs": [],
   "source": [
    "df_opd.loc[(df_opd['income'] >= 100000) & (df_opd['income'] <= 200000), 'Income_group'] = 'middle income'"
   ]
  },
  {
   "cell_type": "code",
   "execution_count": 30,
   "id": "17c817e2",
   "metadata": {},
   "outputs": [],
   "source": [
    "df_opd.loc[df_opd['income'] > 200000, 'Income_group'] = 'high income'"
   ]
  },
  {
   "cell_type": "code",
   "execution_count": 31,
   "id": "48e3591c",
   "metadata": {},
   "outputs": [
    {
     "data": {
      "text/plain": [
       "Income_group\n",
       "lower income     16757162\n",
       "middle income    13953260\n",
       "high income        254142\n",
       "Name: count, dtype: int64"
      ]
     },
     "execution_count": 31,
     "metadata": {},
     "output_type": "execute_result"
    }
   ],
   "source": [
    "# Displays the counts for each of the income groups\n",
    "\n",
    "df_opd['Income_group'].value_counts(dropna = False)"
   ]
  },
  {
   "cell_type": "markdown",
   "id": "8a4a1b75",
   "metadata": {},
   "source": [
    "# Dependant groups"
   ]
  },
  {
   "cell_type": "code",
   "execution_count": 32,
   "id": "b7f87a70",
   "metadata": {},
   "outputs": [
    {
     "data": {
      "text/plain": [
       "0"
      ]
     },
     "execution_count": 32,
     "metadata": {},
     "output_type": "execute_result"
    }
   ],
   "source": [
    "df_opd['Number_of_dependants'].min()"
   ]
  },
  {
   "cell_type": "code",
   "execution_count": 33,
   "id": "0a2e789c",
   "metadata": {},
   "outputs": [
    {
     "data": {
      "text/plain": [
       "3"
      ]
     },
     "execution_count": 33,
     "metadata": {},
     "output_type": "execute_result"
    }
   ],
   "source": [
    "df_opd['Number_of_dependants'].max()"
   ]
  },
  {
   "cell_type": "code",
   "execution_count": 34,
   "id": "888ac2bf",
   "metadata": {},
   "outputs": [
    {
     "name": "stderr",
     "output_type": "stream",
     "text": [
      "C:\\Users\\srira\\AppData\\Local\\Temp\\ipykernel_4644\\2720041480.py:3: FutureWarning: Setting an item of incompatible dtype is deprecated and will raise in a future error of pandas. Value 'no dependants' has dtype incompatible with float64, please explicitly cast to a compatible dtype first.\n",
      "  df_opd.loc[df_opd['Number_of_dependants'] <= 0, 'Dependants_group'] = 'no dependants'\n"
     ]
    }
   ],
   "source": [
    "# Creating dependant groups\n",
    "\n",
    "df_opd.loc[df_opd['Number_of_dependants'] <= 0, 'Dependants_group'] = 'no dependants'"
   ]
  },
  {
   "cell_type": "code",
   "execution_count": 35,
   "id": "b7be0e9d",
   "metadata": {},
   "outputs": [],
   "source": [
    "df_opd.loc[df_opd['Number_of_dependants'] > 0, 'Dependants_group'] = 'has dependants'"
   ]
  },
  {
   "cell_type": "code",
   "execution_count": 36,
   "id": "36d1b596",
   "metadata": {},
   "outputs": [
    {
     "data": {
      "text/plain": [
       "Dependants_group\n",
       "has dependants    23224883\n",
       "no dependants      7739681\n",
       "Name: count, dtype: int64"
      ]
     },
     "execution_count": 36,
     "metadata": {},
     "output_type": "execute_result"
    }
   ],
   "source": [
    "# Displays the count of the dependants group\n",
    "\n",
    "df_opd['Dependants_group'].value_counts(dropna = False)"
   ]
  },
  {
   "cell_type": "code",
   "execution_count": 37,
   "id": "36cdc7d8",
   "metadata": {},
   "outputs": [
    {
     "data": {
      "text/html": [
       "<div>\n",
       "<style scoped>\n",
       "    .dataframe tbody tr th:only-of-type {\n",
       "        vertical-align: middle;\n",
       "    }\n",
       "\n",
       "    .dataframe tbody tr th {\n",
       "        vertical-align: top;\n",
       "    }\n",
       "\n",
       "    .dataframe thead th {\n",
       "        text-align: right;\n",
       "    }\n",
       "</style>\n",
       "<table border=\"1\" class=\"dataframe\">\n",
       "  <thead>\n",
       "    <tr style=\"text-align: right;\">\n",
       "      <th></th>\n",
       "      <th>order_id</th>\n",
       "      <th>user_id</th>\n",
       "      <th>order_number</th>\n",
       "      <th>orders_days_of_week</th>\n",
       "      <th>order_hour_of_day</th>\n",
       "      <th>days_since_prior_order</th>\n",
       "      <th>product_id</th>\n",
       "      <th>add_to_cart_order</th>\n",
       "      <th>reordered</th>\n",
       "      <th>product_name</th>\n",
       "      <th>...</th>\n",
       "      <th>Number_of_dependants</th>\n",
       "      <th>Family_Status</th>\n",
       "      <th>income</th>\n",
       "      <th>Region</th>\n",
       "      <th>Activity flag</th>\n",
       "      <th>department</th>\n",
       "      <th>_merge</th>\n",
       "      <th>Age_group</th>\n",
       "      <th>Income_group</th>\n",
       "      <th>Dependants_group</th>\n",
       "    </tr>\n",
       "  </thead>\n",
       "  <tbody>\n",
       "    <tr>\n",
       "      <th>0</th>\n",
       "      <td>2539329</td>\n",
       "      <td>1</td>\n",
       "      <td>1</td>\n",
       "      <td>2</td>\n",
       "      <td>8</td>\n",
       "      <td>NaN</td>\n",
       "      <td>196</td>\n",
       "      <td>1</td>\n",
       "      <td>0</td>\n",
       "      <td>Soda</td>\n",
       "      <td>...</td>\n",
       "      <td>3</td>\n",
       "      <td>married</td>\n",
       "      <td>40423</td>\n",
       "      <td>South</td>\n",
       "      <td>Normal activity</td>\n",
       "      <td>beverages</td>\n",
       "      <td>both</td>\n",
       "      <td>30 - 39 years old</td>\n",
       "      <td>lower income</td>\n",
       "      <td>has dependants</td>\n",
       "    </tr>\n",
       "    <tr>\n",
       "      <th>1</th>\n",
       "      <td>2398795</td>\n",
       "      <td>1</td>\n",
       "      <td>2</td>\n",
       "      <td>3</td>\n",
       "      <td>7</td>\n",
       "      <td>15.0</td>\n",
       "      <td>196</td>\n",
       "      <td>1</td>\n",
       "      <td>1</td>\n",
       "      <td>Soda</td>\n",
       "      <td>...</td>\n",
       "      <td>3</td>\n",
       "      <td>married</td>\n",
       "      <td>40423</td>\n",
       "      <td>South</td>\n",
       "      <td>Normal activity</td>\n",
       "      <td>beverages</td>\n",
       "      <td>both</td>\n",
       "      <td>30 - 39 years old</td>\n",
       "      <td>lower income</td>\n",
       "      <td>has dependants</td>\n",
       "    </tr>\n",
       "    <tr>\n",
       "      <th>2</th>\n",
       "      <td>473747</td>\n",
       "      <td>1</td>\n",
       "      <td>3</td>\n",
       "      <td>3</td>\n",
       "      <td>12</td>\n",
       "      <td>21.0</td>\n",
       "      <td>196</td>\n",
       "      <td>1</td>\n",
       "      <td>1</td>\n",
       "      <td>Soda</td>\n",
       "      <td>...</td>\n",
       "      <td>3</td>\n",
       "      <td>married</td>\n",
       "      <td>40423</td>\n",
       "      <td>South</td>\n",
       "      <td>Normal activity</td>\n",
       "      <td>beverages</td>\n",
       "      <td>both</td>\n",
       "      <td>30 - 39 years old</td>\n",
       "      <td>lower income</td>\n",
       "      <td>has dependants</td>\n",
       "    </tr>\n",
       "    <tr>\n",
       "      <th>3</th>\n",
       "      <td>2254736</td>\n",
       "      <td>1</td>\n",
       "      <td>4</td>\n",
       "      <td>4</td>\n",
       "      <td>7</td>\n",
       "      <td>29.0</td>\n",
       "      <td>196</td>\n",
       "      <td>1</td>\n",
       "      <td>1</td>\n",
       "      <td>Soda</td>\n",
       "      <td>...</td>\n",
       "      <td>3</td>\n",
       "      <td>married</td>\n",
       "      <td>40423</td>\n",
       "      <td>South</td>\n",
       "      <td>Normal activity</td>\n",
       "      <td>beverages</td>\n",
       "      <td>both</td>\n",
       "      <td>30 - 39 years old</td>\n",
       "      <td>lower income</td>\n",
       "      <td>has dependants</td>\n",
       "    </tr>\n",
       "    <tr>\n",
       "      <th>4</th>\n",
       "      <td>431534</td>\n",
       "      <td>1</td>\n",
       "      <td>5</td>\n",
       "      <td>4</td>\n",
       "      <td>15</td>\n",
       "      <td>28.0</td>\n",
       "      <td>196</td>\n",
       "      <td>1</td>\n",
       "      <td>1</td>\n",
       "      <td>Soda</td>\n",
       "      <td>...</td>\n",
       "      <td>3</td>\n",
       "      <td>married</td>\n",
       "      <td>40423</td>\n",
       "      <td>South</td>\n",
       "      <td>Normal activity</td>\n",
       "      <td>beverages</td>\n",
       "      <td>both</td>\n",
       "      <td>30 - 39 years old</td>\n",
       "      <td>lower income</td>\n",
       "      <td>has dependants</td>\n",
       "    </tr>\n",
       "  </tbody>\n",
       "</table>\n",
       "<p>5 rows × 37 columns</p>\n",
       "</div>"
      ],
      "text/plain": [
       "   order_id user_id  order_number  orders_days_of_week  order_hour_of_day  \\\n",
       "0   2539329       1             1                    2                  8   \n",
       "1   2398795       1             2                    3                  7   \n",
       "2    473747       1             3                    3                 12   \n",
       "3   2254736       1             4                    4                  7   \n",
       "4    431534       1             5                    4                 15   \n",
       "\n",
       "   days_since_prior_order  product_id  add_to_cart_order  reordered  \\\n",
       "0                     NaN         196                  1          0   \n",
       "1                    15.0         196                  1          1   \n",
       "2                    21.0         196                  1          1   \n",
       "3                    29.0         196                  1          1   \n",
       "4                    28.0         196                  1          1   \n",
       "\n",
       "  product_name  ...  Number_of_dependants  Family_Status  income Region  \\\n",
       "0         Soda  ...                     3        married   40423  South   \n",
       "1         Soda  ...                     3        married   40423  South   \n",
       "2         Soda  ...                     3        married   40423  South   \n",
       "3         Soda  ...                     3        married   40423  South   \n",
       "4         Soda  ...                     3        married   40423  South   \n",
       "\n",
       "     Activity flag department _merge          Age_group  Income_group  \\\n",
       "0  Normal activity  beverages   both  30 - 39 years old  lower income   \n",
       "1  Normal activity  beverages   both  30 - 39 years old  lower income   \n",
       "2  Normal activity  beverages   both  30 - 39 years old  lower income   \n",
       "3  Normal activity  beverages   both  30 - 39 years old  lower income   \n",
       "4  Normal activity  beverages   both  30 - 39 years old  lower income   \n",
       "\n",
       "   Dependants_group  \n",
       "0    has dependants  \n",
       "1    has dependants  \n",
       "2    has dependants  \n",
       "3    has dependants  \n",
       "4    has dependants  \n",
       "\n",
       "[5 rows x 37 columns]"
      ]
     },
     "execution_count": 37,
     "metadata": {},
     "output_type": "execute_result"
    }
   ],
   "source": [
    "df_opd.head()"
   ]
  },
  {
   "cell_type": "markdown",
   "id": "d95d1d24",
   "metadata": {},
   "source": [
    "# Marital status"
   ]
  },
  {
   "cell_type": "code",
   "execution_count": 38,
   "id": "3e7debeb",
   "metadata": {},
   "outputs": [
    {
     "data": {
      "text/plain": [
       "Family_Status\n",
       "married                             21743711\n",
       "single                               5094410\n",
       "divorced/widowed                     2645271\n",
       "living with parents and siblings     1481172\n",
       "Name: count, dtype: int64"
      ]
     },
     "execution_count": 38,
     "metadata": {},
     "output_type": "execute_result"
    }
   ],
   "source": [
    "# Displays the count of the marital status\n",
    "df_opd['Family_Status'].value_counts(dropna = False)"
   ]
  },
  {
   "cell_type": "code",
   "execution_count": 39,
   "id": "2747efcb",
   "metadata": {},
   "outputs": [],
   "source": [
    "# Creating a crosstab for 'family_status' and 'dependants_group' \n",
    "\n",
    "marital_crosstab = pd.crosstab(df_opd['Family_Status'], df_opd['Dependants_group'], dropna = False)"
   ]
  },
  {
   "cell_type": "code",
   "execution_count": 40,
   "id": "735b9066",
   "metadata": {},
   "outputs": [],
   "source": [
    "marital_crosstab.to_clipboard()"
   ]
  },
  {
   "cell_type": "code",
   "execution_count": 41,
   "id": "2004acad",
   "metadata": {},
   "outputs": [
    {
     "data": {
      "text/html": [
       "<div>\n",
       "<style scoped>\n",
       "    .dataframe tbody tr th:only-of-type {\n",
       "        vertical-align: middle;\n",
       "    }\n",
       "\n",
       "    .dataframe tbody tr th {\n",
       "        vertical-align: top;\n",
       "    }\n",
       "\n",
       "    .dataframe thead th {\n",
       "        text-align: right;\n",
       "    }\n",
       "</style>\n",
       "<table border=\"1\" class=\"dataframe\">\n",
       "  <thead>\n",
       "    <tr style=\"text-align: right;\">\n",
       "      <th>Dependants_group</th>\n",
       "      <th>has dependants</th>\n",
       "      <th>no dependants</th>\n",
       "    </tr>\n",
       "    <tr>\n",
       "      <th>Family_Status</th>\n",
       "      <th></th>\n",
       "      <th></th>\n",
       "    </tr>\n",
       "  </thead>\n",
       "  <tbody>\n",
       "    <tr>\n",
       "      <th>divorced/widowed</th>\n",
       "      <td>0</td>\n",
       "      <td>2645271</td>\n",
       "    </tr>\n",
       "    <tr>\n",
       "      <th>living with parents and siblings</th>\n",
       "      <td>1481172</td>\n",
       "      <td>0</td>\n",
       "    </tr>\n",
       "    <tr>\n",
       "      <th>married</th>\n",
       "      <td>21743711</td>\n",
       "      <td>0</td>\n",
       "    </tr>\n",
       "    <tr>\n",
       "      <th>single</th>\n",
       "      <td>0</td>\n",
       "      <td>5094410</td>\n",
       "    </tr>\n",
       "  </tbody>\n",
       "</table>\n",
       "</div>"
      ],
      "text/plain": [
       "Dependants_group                  has dependants  no dependants\n",
       "Family_Status                                                  \n",
       "divorced/widowed                               0        2645271\n",
       "living with parents and siblings         1481172              0\n",
       "married                                 21743711              0\n",
       "single                                         0        5094410"
      ]
     },
     "execution_count": 41,
     "metadata": {},
     "output_type": "execute_result"
    }
   ],
   "source": [
    "marital_crosstab"
   ]
  },
  {
   "cell_type": "code",
   "execution_count": 42,
   "id": "4616f68b",
   "metadata": {},
   "outputs": [],
   "source": [
    "# Creating a crosstab for 'age groups' and 'dependants_group'\n",
    "\n",
    "age_crosstab = pd.crosstab(df_opd['Age_group'], df_opd['Dependants_group'], dropna = False)"
   ]
  },
  {
   "cell_type": "code",
   "execution_count": 43,
   "id": "23904a09",
   "metadata": {},
   "outputs": [],
   "source": [
    "age_crosstab.to_clipboard()"
   ]
  },
  {
   "cell_type": "code",
   "execution_count": 44,
   "id": "405a1202",
   "metadata": {
    "scrolled": true
   },
   "outputs": [
    {
     "data": {
      "text/html": [
       "<div>\n",
       "<style scoped>\n",
       "    .dataframe tbody tr th:only-of-type {\n",
       "        vertical-align: middle;\n",
       "    }\n",
       "\n",
       "    .dataframe tbody tr th {\n",
       "        vertical-align: top;\n",
       "    }\n",
       "\n",
       "    .dataframe thead th {\n",
       "        text-align: right;\n",
       "    }\n",
       "</style>\n",
       "<table border=\"1\" class=\"dataframe\">\n",
       "  <thead>\n",
       "    <tr style=\"text-align: right;\">\n",
       "      <th>Dependants_group</th>\n",
       "      <th>has dependants</th>\n",
       "      <th>no dependants</th>\n",
       "    </tr>\n",
       "    <tr>\n",
       "      <th>Age_group</th>\n",
       "      <th></th>\n",
       "      <th></th>\n",
       "    </tr>\n",
       "  </thead>\n",
       "  <tbody>\n",
       "    <tr>\n",
       "      <th>18 - 29 years old</th>\n",
       "      <td>4369985</td>\n",
       "      <td>1447618</td>\n",
       "    </tr>\n",
       "    <tr>\n",
       "      <th>30 - 39 years old</th>\n",
       "      <td>3634550</td>\n",
       "      <td>1212957</td>\n",
       "    </tr>\n",
       "    <tr>\n",
       "      <th>40 - 49 years old</th>\n",
       "      <td>3669445</td>\n",
       "      <td>1213734</td>\n",
       "    </tr>\n",
       "    <tr>\n",
       "      <th>50 - 59 years old</th>\n",
       "      <td>3621670</td>\n",
       "      <td>1220101</td>\n",
       "    </tr>\n",
       "    <tr>\n",
       "      <th>60 - 69 years old</th>\n",
       "      <td>3557155</td>\n",
       "      <td>1204466</td>\n",
       "    </tr>\n",
       "    <tr>\n",
       "      <th>70 - 81 years old</th>\n",
       "      <td>4372078</td>\n",
       "      <td>1440805</td>\n",
       "    </tr>\n",
       "  </tbody>\n",
       "</table>\n",
       "</div>"
      ],
      "text/plain": [
       "Dependants_group   has dependants  no dependants\n",
       "Age_group                                       \n",
       "18 - 29 years old         4369985        1447618\n",
       "30 - 39 years old         3634550        1212957\n",
       "40 - 49 years old         3669445        1213734\n",
       "50 - 59 years old         3621670        1220101\n",
       "60 - 69 years old         3557155        1204466\n",
       "70 - 81 years old         4372078        1440805"
      ]
     },
     "execution_count": 44,
     "metadata": {},
     "output_type": "execute_result"
    }
   ],
   "source": [
    "age_crosstab"
   ]
  },
  {
   "cell_type": "markdown",
   "id": "fa724205",
   "metadata": {},
   "source": [
    "# Creating profile variable based on age, marital status and dependant group"
   ]
  },
  {
   "cell_type": "code",
   "execution_count": 45,
   "id": "c915450c",
   "metadata": {},
   "outputs": [
    {
     "name": "stderr",
     "output_type": "stream",
     "text": [
      "C:\\Users\\srira\\AppData\\Local\\Temp\\ipykernel_4644\\97434503.py:1: FutureWarning: Setting an item of incompatible dtype is deprecated and will raise in a future error of pandas. Value 'young adult without dependants' has dtype incompatible with float64, please explicitly cast to a compatible dtype first.\n",
      "  df_opd.loc[(df_opd['Age_group'].isin(['18 - 29 years old', '30 - 39 years old'])) & (df_opd['Family_Status'].isin(['single', 'divorced/widowed'])) & (df_opd['Dependants_group'] == 'no dependants'),'profile_flag']=  'young adult without dependants'\n"
     ]
    }
   ],
   "source": [
    " df_opd.loc[(df_opd['Age_group'].isin(['18 - 29 years old', '30 - 39 years old'])) & (df_opd['Family_Status'].isin(['single', 'divorced/widowed'])) & (df_opd['Dependants_group'] == 'no dependants'),'profile_flag']=  'young adult without dependants'"
   ]
  },
  {
   "cell_type": "code",
   "execution_count": 46,
   "id": "3f33e6e4",
   "metadata": {},
   "outputs": [],
   "source": [
    "df_opd.loc[(df_opd['Age_group'].isin(['40 - 49 years old', '50 - 59 years old'])) & (df_opd['Family_Status'].isin(['single', 'divorced/widowed'])) & (df_opd['Dependants_group'] == 'no dependants'),'profile_flag']= 'adult without dependants'"
   ]
  },
  {
   "cell_type": "code",
   "execution_count": 47,
   "id": "3bb5a36e",
   "metadata": {},
   "outputs": [],
   "source": [
    "df_opd.loc[(df_opd['Age_group'].isin(['60 - 69 years old', '70 - 81 years old'])) & (df_opd['Family_Status'].isin(['single', 'divorced/widowed'])) & (df_opd['Dependants_group'] == 'no dependants'),'profile_flag']= 'older adult without dependants'"
   ]
  },
  {
   "cell_type": "code",
   "execution_count": 48,
   "id": "b139a581",
   "metadata": {},
   "outputs": [],
   "source": [
    "df_opd.loc[(df_opd['Age_group'].isin(['18 - 29 years old', '30 - 39 years old'])) & (df_opd['Family_Status'] == 'living with parents and siblings') & (df_opd['Dependants_group'] == 'has dependants'),'profile_flag']= 'young adult with dependants'"
   ]
  },
  {
   "cell_type": "code",
   "execution_count": 49,
   "id": "32ef909f",
   "metadata": {},
   "outputs": [],
   "source": [
    "df_opd.loc[(df_opd['Age_group'].isin(['40 - 49 years old', '50 - 59 years old'])) & (df_opd['Family_Status'] == 'living with parents and siblings') & (df_opd['Dependants_group'] == 'has dependants'),'profile_flag']= 'adult with dependants'"
   ]
  },
  {
   "cell_type": "code",
   "execution_count": 50,
   "id": "7caedd80",
   "metadata": {},
   "outputs": [],
   "source": [
    "df_opd.loc[(df_opd['Age_group'].isin(['60 - 69 years old', '70 - 81 years old'])) & (df_opd['Family_Status'] == 'living with parents and siblings') & (df_opd['Dependants_group'] == 'has dependants'),'profile_flag']= 'older adult with dependants'"
   ]
  },
  {
   "cell_type": "code",
   "execution_count": 51,
   "id": "0e67808d",
   "metadata": {},
   "outputs": [],
   "source": [
    "df_opd.loc[(df_opd['Age_group'].isin(['18 - 29 years old', '30 - 39 years old'])) & (df_opd['Family_Status'] == 'married') & (df_opd['Dependants_group'] == 'has dependants'),'profile_flag']= 'married young adult with dependants'"
   ]
  },
  {
   "cell_type": "code",
   "execution_count": 52,
   "id": "e5d5e7aa",
   "metadata": {},
   "outputs": [],
   "source": [
    "df_opd.loc[(df_opd['Age_group'].isin(['40 - 49 years old', '50 - 59 years old'])) & (df_opd['Family_Status'] == 'married') & (df_opd['Dependants_group'] == 'has dependants'),'profile_flag']= 'married adult with dependants'"
   ]
  },
  {
   "cell_type": "code",
   "execution_count": 53,
   "id": "47ca15f4",
   "metadata": {},
   "outputs": [],
   "source": [
    "df_opd.loc[(df_opd['Age_group'].isin(['60 - 69 years old', '70 - 81 years old'])) & (df_opd['Family_Status'] == 'married') & (df_opd['Dependants_group'] == 'has dependants'),'profile_flag']= 'married older adult with dependants'"
   ]
  },
  {
   "cell_type": "code",
   "execution_count": 54,
   "id": "32eb9b7b",
   "metadata": {},
   "outputs": [
    {
     "data": {
      "text/plain": [
       "profile_flag\n",
       "married older adult with dependants    7929233\n",
       "married adult with dependants          7291115\n",
       "married young adult with dependants    6523363\n",
       "young adult without dependants         2660575\n",
       "older adult without dependants         2645271\n",
       "adult without dependants               2433835\n",
       "young adult with dependants            1481172\n",
       "Name: count, dtype: int64"
      ]
     },
     "execution_count": 54,
     "metadata": {},
     "output_type": "execute_result"
    }
   ],
   "source": [
    "df_opd['profile_flag'].value_counts(dropna = False)"
   ]
  },
  {
   "cell_type": "markdown",
   "id": "2f27176c",
   "metadata": {},
   "source": [
    "# Creating profiling variable based on age, income, marital status and dependant group"
   ]
  },
  {
   "cell_type": "code",
   "execution_count": 96,
   "id": "8e9a132e",
   "metadata": {},
   "outputs": [],
   "source": [
    "# Low income single young adults without dependants\n",
    "\n",
    "df_opd.loc[(df_opd['Age_group'].isin(['18 - 29 years old', '30 - 39 years old'])) & (df_opd['Family_Status'].isin(['single', 'divorced/widowed'])) & (df_opd['Income_group'] =='lower income') & (df_opd['Dependants_group'] == 'no dependants'),'customer_profile']= 'low income young adults without dependants'"
   ]
  },
  {
   "cell_type": "code",
   "execution_count": 97,
   "id": "8a7d5c8f",
   "metadata": {},
   "outputs": [],
   "source": [
    "# Low income single adults without dependents\n",
    "\n",
    "df_opd.loc[(df_opd['Age_group'].isin(['40 - 49 years old', '50 - 59 years old'])) & (df_opd['Family_Status'].isin(['single', 'divorced/widowed'])) & (df_opd['Income_group'] =='lower income') & (df_opd['Dependants_group'] == 'no dependants'),'customer_profile']= 'low income adult without dependants'"
   ]
  },
  {
   "cell_type": "code",
   "execution_count": 98,
   "id": "be35f276",
   "metadata": {},
   "outputs": [],
   "source": [
    "# Low income single older adults without dependents\n",
    "\n",
    "df_opd.loc[(df_opd['Age_group'].isin(['60 - 69 years old', '70 - 81 years old'])) & (df_opd['Family_Status'].isin(['single', 'divorced/widowed'])) & (df_opd['Income_group'] =='lower income') & (df_opd['Dependants_group'] == 'no dependants'),'customer_profile']= 'low income older adult without dependants'"
   ]
  },
  {
   "cell_type": "code",
   "execution_count": 99,
   "id": "952e6018",
   "metadata": {},
   "outputs": [],
   "source": [
    "# Low income single young adults with dependants\n",
    "\n",
    "df_opd.loc[(df_opd['Age_group'].isin(['18 - 29 years old', '30 - 39 years old'])) & (df_opd['Family_Status'] == 'living with parents and siblings') & (df_opd['Income_group'] =='lower income') & (df_opd['Dependants_group'] == 'has dependants'),'customer_profile']= 'low income young adult with dependants'"
   ]
  },
  {
   "cell_type": "code",
   "execution_count": 100,
   "id": "a34ed116",
   "metadata": {},
   "outputs": [],
   "source": [
    "# Low income single adult with dependants\n",
    "\n",
    "df_opd.loc[(df_opd['Age_group'].isin(['40 - 49 years old', '50 - 59 years old'])) & (df_opd['Family_Status'] == 'living with parents and siblings') & (df_opd['Income_group'] =='lower income') & (df_opd['Dependants_group'] == 'has dependants'),'customer_profile']= 'low income adult with dependants'"
   ]
  },
  {
   "cell_type": "code",
   "execution_count": 101,
   "id": "d8533af6",
   "metadata": {},
   "outputs": [],
   "source": [
    "# Low income single older adult with dependants\n",
    "\n",
    "df_opd.loc[(df_opd['Age_group'].isin(['60 - 69 years old', '70 - 81 years old'])) & (df_opd['Family_Status'] == 'living with parents and siblings') & (df_opd['Income_group'] =='lower income') & (df_opd['Dependants_group'] == 'has dependants'),'customer_profile']= 'low income older adult with dependants'"
   ]
  },
  {
   "cell_type": "code",
   "execution_count": 102,
   "id": "99840731",
   "metadata": {},
   "outputs": [],
   "source": [
    "# Low income married young adults with dependants\n",
    "\n",
    "df_opd.loc[(df_opd['Age_group'].isin(['18 - 29 years old', '30 - 39 years old'])) & (df_opd['Family_Status'] == 'married') & (df_opd['Income_group'] =='lower income') & (df_opd['Dependants_group'] == 'has dependants'),'customer_profile']= 'low income married young adult with dependants'"
   ]
  },
  {
   "cell_type": "code",
   "execution_count": 103,
   "id": "cf95d9f1",
   "metadata": {},
   "outputs": [],
   "source": [
    "# Low income married adults with dependants\n",
    "\n",
    "df_opd.loc[(df_opd['Age_group'].isin(['40 - 49 years old', '50 - 59 years old'])) & (df_opd['Family_Status'] == 'married') & (df_opd['Income_group'] =='lower income') & (df_opd['Dependants_group'] == 'has dependants'),'customer_profile']= 'low income married adult with dependants'"
   ]
  },
  {
   "cell_type": "code",
   "execution_count": 104,
   "id": "d76a5c9d",
   "metadata": {},
   "outputs": [],
   "source": [
    "# Low income married older adults with dependants\n",
    "\n",
    "df_opd.loc[(df_opd['Age_group'].isin(['60 - 69 years old', '70 - 81 years old'])) & (df_opd['Family_Status'] == 'married') & (df_opd['Income_group'] =='lower income') & (df_opd['Dependants_group'] == 'has dependants'),'customer_profile']= 'low income married older adult with dependants'"
   ]
  },
  {
   "cell_type": "code",
   "execution_count": 105,
   "id": "349ffb8d",
   "metadata": {},
   "outputs": [],
   "source": [
    "# Mid income single young adult without dependants\n",
    "\n",
    "df_opd.loc[(df_opd['Age_group'].isin(['18 - 29 years old', '30 - 39 years old'])) & (df_opd['Family_Status'].isin(['single', 'divorced/widowed'])) & (df_opd['Income_group'] =='middle income') & (df_opd['Dependants_group'] == 'no dependants'),'customer_profile']= 'mid income young adult without dependants'"
   ]
  },
  {
   "cell_type": "code",
   "execution_count": 106,
   "id": "929dde2c",
   "metadata": {},
   "outputs": [],
   "source": [
    "# Mid income single adult without dependants\n",
    "\n",
    "df_opd.loc[(df_opd['Age_group'].isin(['40 - 49 years old', '50 - 59 years old'])) & (df_opd['Family_Status'].isin(['single', 'divorced/widowed'])) & (df_opd['Income_group'] =='middle income') & (df_opd['Dependants_group'] == 'no dependants'),'customer_profile']= 'mid income adult without dependants'"
   ]
  },
  {
   "cell_type": "code",
   "execution_count": 107,
   "id": "a6235df7",
   "metadata": {},
   "outputs": [],
   "source": [
    "# Mid income single adult without dependants\n",
    "\n",
    "df_opd.loc[(df_opd['Age_group'].isin(['60 - 69 years old', '70 - 81 years old'])) & (df_opd['Family_Status'].isin(['single', 'divorced/widowed'])) & (df_opd['Income_group'] =='middle income') & (df_opd['Dependants_group'] == 'no dependants'),'customer_profile']= 'mid income older adult without dependants'"
   ]
  },
  {
   "cell_type": "code",
   "execution_count": 108,
   "id": "2e10c982",
   "metadata": {},
   "outputs": [],
   "source": [
    "# Mid income single young adult with dependants\n",
    "\n",
    "df_opd.loc[(df_opd['Age_group'].isin(['18 - 29 years old', '30 - 39 years old'])) & (df_opd['Family_Status'] == 'living with parents and siblings') & (df_opd['Income_group'] =='middle income') & (df_opd['Dependants_group'] == 'has dependants'),'customer_profile']= 'mid income young adult with dependants'"
   ]
  },
  {
   "cell_type": "code",
   "execution_count": 109,
   "id": "d1b81fcc",
   "metadata": {},
   "outputs": [],
   "source": [
    "# Mid income single adult with dependants\n",
    "\n",
    "df_opd.loc[(df_opd['Age_group'].isin(['40 - 49 years old', '50 - 59 years old'])) & (df_opd['Family_Status'] == 'living with parents and siblings') & (df_opd['Income_group'] =='middle income') & (df_opd['Dependants_group'] == 'has dependants'),'customer_profile']= 'mid income adult with dependants'"
   ]
  },
  {
   "cell_type": "code",
   "execution_count": 110,
   "id": "15c6b9e1",
   "metadata": {},
   "outputs": [],
   "source": [
    "# Mid income single older adult with dependants\n",
    "\n",
    "df_opd.loc[(df_opd['Age_group'].isin(['60 - 69 years old', '70 - 81 years old'])) & (df_opd['Family_Status'] == 'living with parents and siblings') & (df_opd['Income_group'] =='middle income') & (df_opd['Dependants_group'] == 'has dependants'),'customer_profile']= 'mid income older adult with dependants'"
   ]
  },
  {
   "cell_type": "code",
   "execution_count": 111,
   "id": "59f8e171",
   "metadata": {},
   "outputs": [],
   "source": [
    "# Mid income married young adult with dependants\n",
    "\n",
    "df_opd.loc[(df_opd['Age_group'].isin(['18 - 29 years old', '30 - 39 years old'])) & (df_opd['Family_Status'] == 'married') & (df_opd['Income_group'] =='middle income') & (df_opd['Dependants_group'] == 'has dependants'),'customer_profile']= 'mid income married young adult with dependants'"
   ]
  },
  {
   "cell_type": "code",
   "execution_count": 112,
   "id": "c8da6d93",
   "metadata": {},
   "outputs": [],
   "source": [
    "# Mid income married adult with dependants\n",
    "\n",
    "df_opd.loc[(df_opd['Age_group'].isin(['40 - 49 years old', '50 - 59 years old'])) & (df_opd['Family_Status'] == 'married') & (df_opd['Income_group'] =='middle income') & (df_opd['Dependants_group'] == 'has dependants'),'customer_profile']= 'mid income married adult with dependants'"
   ]
  },
  {
   "cell_type": "code",
   "execution_count": 113,
   "id": "ca48ee63",
   "metadata": {},
   "outputs": [],
   "source": [
    "# Mid income married adult with dependants\n",
    "\n",
    "df_opd.loc[(df_opd['Age_group'].isin(['60 - 69 years old', '70 - 81 years old'])) & (df_opd['Family_Status'] == 'married') & (df_opd['Income_group'] =='middle income') & (df_opd['Dependants_group'] == 'has dependants'),'customer_profile']= 'mid income married older adult with dependants'"
   ]
  },
  {
   "cell_type": "code",
   "execution_count": 114,
   "id": "f643b972",
   "metadata": {},
   "outputs": [],
   "source": [
    "# High income married young adult without dependants\n",
    "\n",
    "df_opd.loc[(df_opd['Age_group'].isin(['18 - 29 years old', '30 - 39 years old'])) & (df_opd['Family_Status'].isin(['single', 'divorced/widowed'])) & (df_opd['Income_group'] =='high income') & (df_opd['Dependants_group'] == 'no dependants'),'customer_profile']= 'high income young adult without dependants'"
   ]
  },
  {
   "cell_type": "code",
   "execution_count": 115,
   "id": "6cb82d59",
   "metadata": {},
   "outputs": [],
   "source": [
    "# High income single adult without dependants\n",
    "\n",
    "df_opd.loc[(df_opd['Age_group'].isin(['40 - 49 years old', '50 - 59 years old'])) & (df_opd['Family_Status'].isin(['single', 'divorced/widowed'])) & (df_opd['Income_group'] =='high income') & (df_opd['Dependants_group'] == 'no dependants'),'customer_profile']= 'high income adult without dependants'"
   ]
  },
  {
   "cell_type": "code",
   "execution_count": 116,
   "id": "b0f2e73c",
   "metadata": {},
   "outputs": [],
   "source": [
    "# High income single older adult without dependants\n",
    "\n",
    "df_opd.loc[(df_opd['Age_group'].isin(['60 - 69 years old', '70 - 81 years old'])) & (df_opd['Family_Status'].isin(['single', 'divorced/widowed'])) & (df_opd['Income_group'] =='high income') & (df_opd['Dependants_group'] == 'no dependants'),'customer_profile']= 'high income older adult without dependants'"
   ]
  },
  {
   "cell_type": "code",
   "execution_count": 117,
   "id": "f9722a3e",
   "metadata": {},
   "outputs": [],
   "source": [
    "# High income single young adult with dependants\n",
    "\n",
    "df_opd.loc[(df_opd['Age_group'].isin(['18 - 29 years old', '30 - 39 years old'])) & (df_opd['Family_Status'] == 'living with parents and siblings') & (df_opd['Income_group'] =='high income') & (df_opd['Dependants_group'] == 'has dependants'),'customer_profile']= 'high income young adult with dependants'"
   ]
  },
  {
   "cell_type": "code",
   "execution_count": 118,
   "id": "0ca55179",
   "metadata": {},
   "outputs": [],
   "source": [
    "# High income single adult with dependants\n",
    "\n",
    "df_opd.loc[(df_opd['Age_group'].isin(['40 - 49 years old', '50 - 59 years old'])) & (df_opd['Family_Status'] == 'living with parents and siblings') & (df_opd['Income_group'] =='high income') & (df_opd['Dependants_group'] == 'has dependants'),'customer_profile']= 'high income adult with dependants'"
   ]
  },
  {
   "cell_type": "code",
   "execution_count": 119,
   "id": "9dbae449",
   "metadata": {},
   "outputs": [],
   "source": [
    "# High income single older adults with dependants\n",
    "\n",
    "df_opd.loc[(df_opd['Age_group'].isin(['60 - 69 years old', '70 - 81 years old'])) & (df_opd['Family_Status'] == 'living with parents and siblings') & (df_opd['Income_group'] =='high income') & (df_opd['Dependants_group'] == 'has dependants'),'customer_profile']= 'high income older adult with dependants'"
   ]
  },
  {
   "cell_type": "code",
   "execution_count": 120,
   "id": "6657611e",
   "metadata": {},
   "outputs": [],
   "source": [
    "# High income married young adults with dependants\n",
    "\n",
    "df_opd.loc[(df_opd['Age_group'].isin(['18 - 29 years old', '30 - 39 years old'])) & (df_opd['Family_Status'] == 'married') & (df_opd['Income_group'] =='high income') & (df_opd['Dependants_group'] == 'has dependants'),'customer_profile']= 'high income married young adult with dependants'"
   ]
  },
  {
   "cell_type": "code",
   "execution_count": 121,
   "id": "f9ff5fd1",
   "metadata": {},
   "outputs": [],
   "source": [
    "# High income married adults with dependants\n",
    "\n",
    "df_opd.loc[(df_opd['Age_group'].isin(['40 - 49 years old', '50 - 59 years old'])) & (df_opd['Family_Status'] == 'married') & (df_opd['Income_group'] =='high income') & (df_opd['Dependants_group'] == 'has dependants'),'customer_profile']= 'high income married adult with dependants'"
   ]
  },
  {
   "cell_type": "code",
   "execution_count": 122,
   "id": "30bc4950",
   "metadata": {},
   "outputs": [],
   "source": [
    "# High income married adults with dependants\n",
    "\n",
    "df_opd.loc[(df_opd['Age_group'].isin(['60 - 69 years old', '70 - 81 years old'])) & (df_opd['Family_Status'] == 'married') & (df_opd['Income_group'] =='high income') & (df_opd['Dependants_group'] == 'has dependants'),'customer_profile']= 'high income married older adult with dependants'"
   ]
  },
  {
   "cell_type": "code",
   "execution_count": 123,
   "id": "5998c1d4",
   "metadata": {},
   "outputs": [
    {
     "data": {
      "text/plain": [
       "customer_profile\n",
       "low income married young adult with dependants     6313265\n",
       "mid income married older adult with dependants     5464215\n",
       "mid income married adult with dependants           4754848\n",
       "low income young adults without dependants         2572985\n",
       "low income married adult with dependants           2459831\n",
       "low income married older adult with dependants     2379717\n",
       "mid income older adult without dependants          1821775\n",
       "mid income adult without dependants                1606462\n",
       "low income young adult with dependants             1433624\n",
       "low income older adult without dependants           799069\n",
       "low income adult without dependants                 798671\n",
       "mid income married young adult with dependants      186357\n",
       "high income married older adult with dependants      85301\n",
       "high income married adult with dependants            76436\n",
       "mid income young adult without dependants            76113\n",
       "mid income young adult with dependants               43490\n",
       "high income adult without dependants                 28702\n",
       "high income older adult without dependants           24427\n",
       "high income married young adult with dependants      23741\n",
       "high income young adult without dependants           11477\n",
       "high income young adult with dependants               4058\n",
       "Name: count, dtype: int64"
      ]
     },
     "execution_count": 123,
     "metadata": {},
     "output_type": "execute_result"
    }
   ],
   "source": [
    "df_opd['customer_profile'].value_counts(dropna = False)"
   ]
  },
  {
   "cell_type": "code",
   "execution_count": 83,
   "id": "41011c5c",
   "metadata": {},
   "outputs": [
    {
     "data": {
      "text/plain": [
       "income\n",
       "72344     4395\n",
       "112610    4242\n",
       "57501     4136\n",
       "115620    3831\n",
       "36163     3657\n",
       "          ... \n",
       "52741        5\n",
       "48493        5\n",
       "33040        5\n",
       "91717        5\n",
       "147660       2\n",
       "Name: count, Length: 96069, dtype: int64"
      ]
     },
     "execution_count": 83,
     "metadata": {},
     "output_type": "execute_result"
    }
   ],
   "source": [
    "df_opd['income'].value_counts(dropna = False)"
   ]
  },
  {
   "cell_type": "code",
   "execution_count": 85,
   "id": "48c616b2",
   "metadata": {},
   "outputs": [
    {
     "data": {
      "text/plain": [
       "dtype('int64')"
      ]
     },
     "execution_count": 85,
     "metadata": {},
     "output_type": "execute_result"
    }
   ],
   "source": [
    "df_opd['income'].dtype"
   ]
  },
  {
   "cell_type": "code",
   "execution_count": 87,
   "id": "89b104bf",
   "metadata": {},
   "outputs": [
    {
     "data": {
      "text/plain": [
       "Age_group\n",
       "18 - 29 years old    5817603\n",
       "70 - 81 years old    5812883\n",
       "40 - 49 years old    4883179\n",
       "30 - 39 years old    4847507\n",
       "50 - 59 years old    4841771\n",
       "60 - 69 years old    4761621\n",
       "Name: count, dtype: int64"
      ]
     },
     "execution_count": 87,
     "metadata": {},
     "output_type": "execute_result"
    }
   ],
   "source": [
    "df_opd['Age_group'].value_counts(dropna = False)"
   ]
  },
  {
   "cell_type": "code",
   "execution_count": 88,
   "id": "fbaca4c9",
   "metadata": {},
   "outputs": [
    {
     "data": {
      "text/plain": [
       "Income_group\n",
       "lower income     16757162\n",
       "middle income    13953260\n",
       "high income        254142\n",
       "Name: count, dtype: int64"
      ]
     },
     "execution_count": 88,
     "metadata": {},
     "output_type": "execute_result"
    }
   ],
   "source": [
    "df_opd['Income_group'].value_counts(dropna = False)"
   ]
  },
  {
   "cell_type": "code",
   "execution_count": 91,
   "id": "5769b204",
   "metadata": {},
   "outputs": [
    {
     "data": {
      "text/plain": [
       "Dependants_group\n",
       "has dependants    23224883\n",
       "no dependants      7739681\n",
       "Name: count, dtype: int64"
      ]
     },
     "execution_count": 91,
     "metadata": {},
     "output_type": "execute_result"
    }
   ],
   "source": [
    "df_opd['Dependants_group'].value_counts(dropna = False)"
   ]
  },
  {
   "cell_type": "markdown",
   "id": "fdaec3f5",
   "metadata": {},
   "source": [
    "# Exporting data"
   ]
  },
  {
   "cell_type": "code",
   "execution_count": 124,
   "id": "8837c59b",
   "metadata": {},
   "outputs": [],
   "source": [
    "# Exporting dataframe df_opd to merged_opd.pkl\n",
    "\n",
    "df_opd.to_pickle(os.path.join(path, 'Data', 'Prepared Data', 'merged_opd.pkl'))"
   ]
  },
  {
   "cell_type": "markdown",
   "id": "85bed238",
   "metadata": {},
   "source": [
    "# Distribution of Profiles - Visualizations"
   ]
  },
  {
   "cell_type": "code",
   "execution_count": 125,
   "id": "0c6db01d",
   "metadata": {},
   "outputs": [
    {
     "data": {
      "image/png": "[encoded data removed]",
      "text/plain": [
       "<Figure size 640x480 with 1 Axes>"
      ]
     },
     "metadata": {},
     "output_type": "display_data"
    }
   ],
   "source": [
    "# Bar Chart showing the distribution of the column 'profile_flag'\n",
    "\n",
    "profile_flag_bar = df_opd['profile_flag'].value_counts().plot.bar(title = 'Customers Profile')"
   ]
  },
  {
   "cell_type": "code",
   "execution_count": 126,
   "id": "81667075",
   "metadata": {},
   "outputs": [],
   "source": [
    "# Exporting the bar chart profile_flag_bar to profile_flag.png\n",
    "\n",
    "profile_flag_bar.figure.savefig(os.path.join(path, 'Analysis', 'Visualizations', 'profile_flag.png'))"
   ]
  },
  {
   "cell_type": "code",
   "execution_count": 127,
   "id": "b00bd0c7",
   "metadata": {},
   "outputs": [
    {
     "data": {
      "image/png": "[encoded data removed]",
      "text/plain": [
       "<Figure size 640x480 with 1 Axes>"
      ]
     },
     "metadata": {},
     "output_type": "display_data"
    }
   ],
   "source": [
    "# Bar Chart showing the distribution of the column 'customer_profile'\n",
    "\n",
    "customer_profile_bar = df_opd['customer_profile'].value_counts().plot.bar(title = 'Customers Profile 1')"
   ]
  },
  {
   "cell_type": "code",
   "execution_count": 128,
   "id": "25a5c056",
   "metadata": {},
   "outputs": [],
   "source": [
    "# Exporting the bar chart customer_profile_bar to customer_profile.png\n",
    "\n",
    "customer_profile_bar.figure.savefig(os.path.join(path, 'Analysis', 'Visualizations', 'customer_profile.png'))"
   ]
  },
  {
   "cell_type": "markdown",
   "id": "f0fd2dd0",
   "metadata": {},
   "source": [
    "# 6. Aggregate the min, max and mean variables"
   ]
  },
  {
   "cell_type": "code",
   "execution_count": 130,
   "id": "98b07b1f",
   "metadata": {},
   "outputs": [],
   "source": [
    "# Aggregate the min, max and mean for customers age for usage and expenditure\n",
    "\n",
    "Agg_age_group = df_opd.groupby('Age_group')[['days_since_prior_order','prices']].agg(['min','max','mean'])"
   ]
  },
  {
   "cell_type": "code",
   "execution_count": 131,
   "id": "9049c37f",
   "metadata": {},
   "outputs": [
    {
     "data": {
      "text/html": [
       "<div>\n",
       "<style scoped>\n",
       "    .dataframe tbody tr th:only-of-type {\n",
       "        vertical-align: middle;\n",
       "    }\n",
       "\n",
       "    .dataframe tbody tr th {\n",
       "        vertical-align: top;\n",
       "    }\n",
       "\n",
       "    .dataframe thead tr th {\n",
       "        text-align: left;\n",
       "    }\n",
       "\n",
       "    .dataframe thead tr:last-of-type th {\n",
       "        text-align: right;\n",
       "    }\n",
       "</style>\n",
       "<table border=\"1\" class=\"dataframe\">\n",
       "  <thead>\n",
       "    <tr>\n",
       "      <th></th>\n",
       "      <th colspan=\"3\" halign=\"left\">days_since_prior_order</th>\n",
       "      <th colspan=\"3\" halign=\"left\">prices</th>\n",
       "    </tr>\n",
       "    <tr>\n",
       "      <th></th>\n",
       "      <th>min</th>\n",
       "      <th>max</th>\n",
       "      <th>mean</th>\n",
       "      <th>min</th>\n",
       "      <th>max</th>\n",
       "      <th>mean</th>\n",
       "    </tr>\n",
       "    <tr>\n",
       "      <th>Age_group</th>\n",
       "      <th></th>\n",
       "      <th></th>\n",
       "      <th></th>\n",
       "      <th></th>\n",
       "      <th></th>\n",
       "      <th></th>\n",
       "    </tr>\n",
       "  </thead>\n",
       "  <tbody>\n",
       "    <tr>\n",
       "      <th>18 - 29 years old</th>\n",
       "      <td>0.0</td>\n",
       "      <td>30.0</td>\n",
       "      <td>10.815269</td>\n",
       "      <td>1.0</td>\n",
       "      <td>25.0</td>\n",
       "      <td>7.782198</td>\n",
       "    </tr>\n",
       "    <tr>\n",
       "      <th>30 - 39 years old</th>\n",
       "      <td>0.0</td>\n",
       "      <td>30.0</td>\n",
       "      <td>10.806490</td>\n",
       "      <td>1.0</td>\n",
       "      <td>25.0</td>\n",
       "      <td>7.787961</td>\n",
       "    </tr>\n",
       "    <tr>\n",
       "      <th>40 - 49 years old</th>\n",
       "      <td>0.0</td>\n",
       "      <td>30.0</td>\n",
       "      <td>10.796786</td>\n",
       "      <td>1.0</td>\n",
       "      <td>25.0</td>\n",
       "      <td>7.798234</td>\n",
       "    </tr>\n",
       "    <tr>\n",
       "      <th>50 - 59 years old</th>\n",
       "      <td>0.0</td>\n",
       "      <td>30.0</td>\n",
       "      <td>10.842821</td>\n",
       "      <td>1.0</td>\n",
       "      <td>25.0</td>\n",
       "      <td>7.784991</td>\n",
       "    </tr>\n",
       "    <tr>\n",
       "      <th>60 - 69 years old</th>\n",
       "      <td>0.0</td>\n",
       "      <td>30.0</td>\n",
       "      <td>10.791545</td>\n",
       "      <td>1.0</td>\n",
       "      <td>25.0</td>\n",
       "      <td>7.799586</td>\n",
       "    </tr>\n",
       "    <tr>\n",
       "      <th>70 - 81 years old</th>\n",
       "      <td>0.0</td>\n",
       "      <td>30.0</td>\n",
       "      <td>10.808135</td>\n",
       "      <td>1.0</td>\n",
       "      <td>25.0</td>\n",
       "      <td>7.792055</td>\n",
       "    </tr>\n",
       "  </tbody>\n",
       "</table>\n",
       "</div>"
      ],
      "text/plain": [
       "                  days_since_prior_order                  prices        \\\n",
       "                                     min   max       mean    min   max   \n",
       "Age_group                                                                \n",
       "18 - 29 years old                    0.0  30.0  10.815269    1.0  25.0   \n",
       "30 - 39 years old                    0.0  30.0  10.806490    1.0  25.0   \n",
       "40 - 49 years old                    0.0  30.0  10.796786    1.0  25.0   \n",
       "50 - 59 years old                    0.0  30.0  10.842821    1.0  25.0   \n",
       "60 - 69 years old                    0.0  30.0  10.791545    1.0  25.0   \n",
       "70 - 81 years old                    0.0  30.0  10.808135    1.0  25.0   \n",
       "\n",
       "                             \n",
       "                       mean  \n",
       "Age_group                    \n",
       "18 - 29 years old  7.782198  \n",
       "30 - 39 years old  7.787961  \n",
       "40 - 49 years old  7.798234  \n",
       "50 - 59 years old  7.784991  \n",
       "60 - 69 years old  7.799586  \n",
       "70 - 81 years old  7.792055  "
      ]
     },
     "execution_count": 131,
     "metadata": {},
     "output_type": "execute_result"
    }
   ],
   "source": [
    "Agg_age_group"
   ]
  },
  {
   "cell_type": "code",
   "execution_count": 132,
   "id": "b4590ee1",
   "metadata": {},
   "outputs": [],
   "source": [
    "# Aggregate the min, max and mean for customers income for usage and expenditure\n",
    "\n",
    "Agg_income_group = df_opd.groupby('Income_group')[['days_since_prior_order','prices']].agg(['min','max','mean'])"
   ]
  },
  {
   "cell_type": "code",
   "execution_count": 133,
   "id": "55c303fe",
   "metadata": {},
   "outputs": [
    {
     "data": {
      "text/html": [
       "<div>\n",
       "<style scoped>\n",
       "    .dataframe tbody tr th:only-of-type {\n",
       "        vertical-align: middle;\n",
       "    }\n",
       "\n",
       "    .dataframe tbody tr th {\n",
       "        vertical-align: top;\n",
       "    }\n",
       "\n",
       "    .dataframe thead tr th {\n",
       "        text-align: left;\n",
       "    }\n",
       "\n",
       "    .dataframe thead tr:last-of-type th {\n",
       "        text-align: right;\n",
       "    }\n",
       "</style>\n",
       "<table border=\"1\" class=\"dataframe\">\n",
       "  <thead>\n",
       "    <tr>\n",
       "      <th></th>\n",
       "      <th colspan=\"3\" halign=\"left\">days_since_prior_order</th>\n",
       "      <th colspan=\"3\" halign=\"left\">prices</th>\n",
       "    </tr>\n",
       "    <tr>\n",
       "      <th></th>\n",
       "      <th>min</th>\n",
       "      <th>max</th>\n",
       "      <th>mean</th>\n",
       "      <th>min</th>\n",
       "      <th>max</th>\n",
       "      <th>mean</th>\n",
       "    </tr>\n",
       "    <tr>\n",
       "      <th>Income_group</th>\n",
       "      <th></th>\n",
       "      <th></th>\n",
       "      <th></th>\n",
       "      <th></th>\n",
       "      <th></th>\n",
       "      <th></th>\n",
       "    </tr>\n",
       "  </thead>\n",
       "  <tbody>\n",
       "    <tr>\n",
       "      <th>high income</th>\n",
       "      <td>0.0</td>\n",
       "      <td>30.0</td>\n",
       "      <td>10.093070</td>\n",
       "      <td>1.0</td>\n",
       "      <td>25.0</td>\n",
       "      <td>7.777393</td>\n",
       "    </tr>\n",
       "    <tr>\n",
       "      <th>lower income</th>\n",
       "      <td>0.0</td>\n",
       "      <td>30.0</td>\n",
       "      <td>10.844815</td>\n",
       "      <td>1.0</td>\n",
       "      <td>25.0</td>\n",
       "      <td>7.652564</td>\n",
       "    </tr>\n",
       "    <tr>\n",
       "      <th>middle income</th>\n",
       "      <td>0.0</td>\n",
       "      <td>30.0</td>\n",
       "      <td>10.782082</td>\n",
       "      <td>1.0</td>\n",
       "      <td>25.0</td>\n",
       "      <td>7.956613</td>\n",
       "    </tr>\n",
       "  </tbody>\n",
       "</table>\n",
       "</div>"
      ],
      "text/plain": [
       "              days_since_prior_order                  prices                \n",
       "                                 min   max       mean    min   max      mean\n",
       "Income_group                                                                \n",
       "high income                      0.0  30.0  10.093070    1.0  25.0  7.777393\n",
       "lower income                     0.0  30.0  10.844815    1.0  25.0  7.652564\n",
       "middle income                    0.0  30.0  10.782082    1.0  25.0  7.956613"
      ]
     },
     "execution_count": 133,
     "metadata": {},
     "output_type": "execute_result"
    }
   ],
   "source": [
    "Agg_income_group"
   ]
  },
  {
   "cell_type": "code",
   "execution_count": 134,
   "id": "db0d094f",
   "metadata": {},
   "outputs": [],
   "source": [
    "# Aggregate the min, max and mean for number of dependants for usage and expenditure\n",
    "\n",
    "Agg_dependants_group = df_opd.groupby('Dependants_group')[['days_since_prior_order','prices']].agg(['min','max','mean'])"
   ]
  },
  {
   "cell_type": "code",
   "execution_count": 135,
   "id": "883f4114",
   "metadata": {},
   "outputs": [
    {
     "data": {
      "text/html": [
       "<div>\n",
       "<style scoped>\n",
       "    .dataframe tbody tr th:only-of-type {\n",
       "        vertical-align: middle;\n",
       "    }\n",
       "\n",
       "    .dataframe tbody tr th {\n",
       "        vertical-align: top;\n",
       "    }\n",
       "\n",
       "    .dataframe thead tr th {\n",
       "        text-align: left;\n",
       "    }\n",
       "\n",
       "    .dataframe thead tr:last-of-type th {\n",
       "        text-align: right;\n",
       "    }\n",
       "</style>\n",
       "<table border=\"1\" class=\"dataframe\">\n",
       "  <thead>\n",
       "    <tr>\n",
       "      <th></th>\n",
       "      <th colspan=\"3\" halign=\"left\">days_since_prior_order</th>\n",
       "      <th colspan=\"3\" halign=\"left\">prices</th>\n",
       "    </tr>\n",
       "    <tr>\n",
       "      <th></th>\n",
       "      <th>min</th>\n",
       "      <th>max</th>\n",
       "      <th>mean</th>\n",
       "      <th>min</th>\n",
       "      <th>max</th>\n",
       "      <th>mean</th>\n",
       "    </tr>\n",
       "    <tr>\n",
       "      <th>Dependants_group</th>\n",
       "      <th></th>\n",
       "      <th></th>\n",
       "      <th></th>\n",
       "      <th></th>\n",
       "      <th></th>\n",
       "      <th></th>\n",
       "    </tr>\n",
       "  </thead>\n",
       "  <tbody>\n",
       "    <tr>\n",
       "      <th>has dependants</th>\n",
       "      <td>0.0</td>\n",
       "      <td>30.0</td>\n",
       "      <td>10.816416</td>\n",
       "      <td>1.0</td>\n",
       "      <td>25.0</td>\n",
       "      <td>7.790937</td>\n",
       "    </tr>\n",
       "    <tr>\n",
       "      <th>no dependants</th>\n",
       "      <td>0.0</td>\n",
       "      <td>30.0</td>\n",
       "      <td>10.791951</td>\n",
       "      <td>1.0</td>\n",
       "      <td>25.0</td>\n",
       "      <td>7.789550</td>\n",
       "    </tr>\n",
       "  </tbody>\n",
       "</table>\n",
       "</div>"
      ],
      "text/plain": [
       "                 days_since_prior_order                  prices        \\\n",
       "                                    min   max       mean    min   max   \n",
       "Dependants_group                                                        \n",
       "has dependants                      0.0  30.0  10.816416    1.0  25.0   \n",
       "no dependants                       0.0  30.0  10.791951    1.0  25.0   \n",
       "\n",
       "                            \n",
       "                      mean  \n",
       "Dependants_group            \n",
       "has dependants    7.790937  \n",
       "no dependants     7.789550  "
      ]
     },
     "execution_count": 135,
     "metadata": {},
     "output_type": "execute_result"
    }
   ],
   "source": [
    "Agg_dependants_group"
   ]
  },
  {
   "cell_type": "code",
   "execution_count": 136,
   "id": "0474bba7",
   "metadata": {},
   "outputs": [
    {
     "data": {
      "text/html": [
       "<div>\n",
       "<style scoped>\n",
       "    .dataframe tbody tr th:only-of-type {\n",
       "        vertical-align: middle;\n",
       "    }\n",
       "\n",
       "    .dataframe tbody tr th {\n",
       "        vertical-align: top;\n",
       "    }\n",
       "\n",
       "    .dataframe thead th {\n",
       "        text-align: right;\n",
       "    }\n",
       "</style>\n",
       "<table border=\"1\" class=\"dataframe\">\n",
       "  <thead>\n",
       "    <tr style=\"text-align: right;\">\n",
       "      <th></th>\n",
       "      <th>order_id</th>\n",
       "      <th>user_id</th>\n",
       "      <th>order_number</th>\n",
       "      <th>orders_days_of_week</th>\n",
       "      <th>order_hour_of_day</th>\n",
       "      <th>days_since_prior_order</th>\n",
       "      <th>product_id</th>\n",
       "      <th>add_to_cart_order</th>\n",
       "      <th>reordered</th>\n",
       "      <th>product_name</th>\n",
       "      <th>...</th>\n",
       "      <th>income</th>\n",
       "      <th>Region</th>\n",
       "      <th>Activity flag</th>\n",
       "      <th>department</th>\n",
       "      <th>_merge</th>\n",
       "      <th>Age_group</th>\n",
       "      <th>Income_group</th>\n",
       "      <th>Dependants_group</th>\n",
       "      <th>profile_flag</th>\n",
       "      <th>customer_profile</th>\n",
       "    </tr>\n",
       "  </thead>\n",
       "  <tbody>\n",
       "    <tr>\n",
       "      <th>0</th>\n",
       "      <td>2539329</td>\n",
       "      <td>1</td>\n",
       "      <td>1</td>\n",
       "      <td>2</td>\n",
       "      <td>8</td>\n",
       "      <td>NaN</td>\n",
       "      <td>196</td>\n",
       "      <td>1</td>\n",
       "      <td>0</td>\n",
       "      <td>Soda</td>\n",
       "      <td>...</td>\n",
       "      <td>40423</td>\n",
       "      <td>South</td>\n",
       "      <td>Normal activity</td>\n",
       "      <td>beverages</td>\n",
       "      <td>both</td>\n",
       "      <td>30 - 39 years old</td>\n",
       "      <td>lower income</td>\n",
       "      <td>has dependants</td>\n",
       "      <td>married young adult with dependants</td>\n",
       "      <td>low income married young adult with dependants</td>\n",
       "    </tr>\n",
       "    <tr>\n",
       "      <th>1</th>\n",
       "      <td>2398795</td>\n",
       "      <td>1</td>\n",
       "      <td>2</td>\n",
       "      <td>3</td>\n",
       "      <td>7</td>\n",
       "      <td>15.0</td>\n",
       "      <td>196</td>\n",
       "      <td>1</td>\n",
       "      <td>1</td>\n",
       "      <td>Soda</td>\n",
       "      <td>...</td>\n",
       "      <td>40423</td>\n",
       "      <td>South</td>\n",
       "      <td>Normal activity</td>\n",
       "      <td>beverages</td>\n",
       "      <td>both</td>\n",
       "      <td>30 - 39 years old</td>\n",
       "      <td>lower income</td>\n",
       "      <td>has dependants</td>\n",
       "      <td>married young adult with dependants</td>\n",
       "      <td>low income married young adult with dependants</td>\n",
       "    </tr>\n",
       "    <tr>\n",
       "      <th>2</th>\n",
       "      <td>473747</td>\n",
       "      <td>1</td>\n",
       "      <td>3</td>\n",
       "      <td>3</td>\n",
       "      <td>12</td>\n",
       "      <td>21.0</td>\n",
       "      <td>196</td>\n",
       "      <td>1</td>\n",
       "      <td>1</td>\n",
       "      <td>Soda</td>\n",
       "      <td>...</td>\n",
       "      <td>40423</td>\n",
       "      <td>South</td>\n",
       "      <td>Normal activity</td>\n",
       "      <td>beverages</td>\n",
       "      <td>both</td>\n",
       "      <td>30 - 39 years old</td>\n",
       "      <td>lower income</td>\n",
       "      <td>has dependants</td>\n",
       "      <td>married young adult with dependants</td>\n",
       "      <td>low income married young adult with dependants</td>\n",
       "    </tr>\n",
       "    <tr>\n",
       "      <th>3</th>\n",
       "      <td>2254736</td>\n",
       "      <td>1</td>\n",
       "      <td>4</td>\n",
       "      <td>4</td>\n",
       "      <td>7</td>\n",
       "      <td>29.0</td>\n",
       "      <td>196</td>\n",
       "      <td>1</td>\n",
       "      <td>1</td>\n",
       "      <td>Soda</td>\n",
       "      <td>...</td>\n",
       "      <td>40423</td>\n",
       "      <td>South</td>\n",
       "      <td>Normal activity</td>\n",
       "      <td>beverages</td>\n",
       "      <td>both</td>\n",
       "      <td>30 - 39 years old</td>\n",
       "      <td>lower income</td>\n",
       "      <td>has dependants</td>\n",
       "      <td>married young adult with dependants</td>\n",
       "      <td>low income married young adult with dependants</td>\n",
       "    </tr>\n",
       "    <tr>\n",
       "      <th>4</th>\n",
       "      <td>431534</td>\n",
       "      <td>1</td>\n",
       "      <td>5</td>\n",
       "      <td>4</td>\n",
       "      <td>15</td>\n",
       "      <td>28.0</td>\n",
       "      <td>196</td>\n",
       "      <td>1</td>\n",
       "      <td>1</td>\n",
       "      <td>Soda</td>\n",
       "      <td>...</td>\n",
       "      <td>40423</td>\n",
       "      <td>South</td>\n",
       "      <td>Normal activity</td>\n",
       "      <td>beverages</td>\n",
       "      <td>both</td>\n",
       "      <td>30 - 39 years old</td>\n",
       "      <td>lower income</td>\n",
       "      <td>has dependants</td>\n",
       "      <td>married young adult with dependants</td>\n",
       "      <td>low income married young adult with dependants</td>\n",
       "    </tr>\n",
       "  </tbody>\n",
       "</table>\n",
       "<p>5 rows × 39 columns</p>\n",
       "</div>"
      ],
      "text/plain": [
       "   order_id user_id  order_number  orders_days_of_week  order_hour_of_day  \\\n",
       "0   2539329       1             1                    2                  8   \n",
       "1   2398795       1             2                    3                  7   \n",
       "2    473747       1             3                    3                 12   \n",
       "3   2254736       1             4                    4                  7   \n",
       "4    431534       1             5                    4                 15   \n",
       "\n",
       "   days_since_prior_order  product_id  add_to_cart_order  reordered  \\\n",
       "0                     NaN         196                  1          0   \n",
       "1                    15.0         196                  1          1   \n",
       "2                    21.0         196                  1          1   \n",
       "3                    29.0         196                  1          1   \n",
       "4                    28.0         196                  1          1   \n",
       "\n",
       "  product_name  ...  income  Region    Activity flag department _merge  \\\n",
       "0         Soda  ...   40423   South  Normal activity  beverages   both   \n",
       "1         Soda  ...   40423   South  Normal activity  beverages   both   \n",
       "2         Soda  ...   40423   South  Normal activity  beverages   both   \n",
       "3         Soda  ...   40423   South  Normal activity  beverages   both   \n",
       "4         Soda  ...   40423   South  Normal activity  beverages   both   \n",
       "\n",
       "           Age_group  Income_group  Dependants_group  \\\n",
       "0  30 - 39 years old  lower income    has dependants   \n",
       "1  30 - 39 years old  lower income    has dependants   \n",
       "2  30 - 39 years old  lower income    has dependants   \n",
       "3  30 - 39 years old  lower income    has dependants   \n",
       "4  30 - 39 years old  lower income    has dependants   \n",
       "\n",
       "                          profile_flag  \\\n",
       "0  married young adult with dependants   \n",
       "1  married young adult with dependants   \n",
       "2  married young adult with dependants   \n",
       "3  married young adult with dependants   \n",
       "4  married young adult with dependants   \n",
       "\n",
       "                                 customer_profile  \n",
       "0  low income married young adult with dependants  \n",
       "1  low income married young adult with dependants  \n",
       "2  low income married young adult with dependants  \n",
       "3  low income married young adult with dependants  \n",
       "4  low income married young adult with dependants  \n",
       "\n",
       "[5 rows x 39 columns]"
      ]
     },
     "execution_count": 136,
     "metadata": {},
     "output_type": "execute_result"
    }
   ],
   "source": [
    "# Checking the output\n",
    "\n",
    "df_opd.head()"
   ]
  },
  {
   "cell_type": "code",
   "execution_count": 137,
   "id": "247b19c3",
   "metadata": {},
   "outputs": [
    {
     "name": "stdout",
     "output_type": "stream",
     "text": [
      "<class 'pandas.core.frame.DataFrame'>\n",
      "RangeIndex: 30964564 entries, 0 to 30964563\n",
      "Data columns (total 39 columns):\n",
      " #   Column                  Dtype   \n",
      "---  ------                  -----   \n",
      " 0   order_id                int64   \n",
      " 1   user_id                 object  \n",
      " 2   order_number            int64   \n",
      " 3   orders_days_of_week     int64   \n",
      " 4   order_hour_of_day       int64   \n",
      " 5   days_since_prior_order  float64 \n",
      " 6   product_id              int64   \n",
      " 7   add_to_cart_order       int64   \n",
      " 8   reordered               int64   \n",
      " 9   product_name            object  \n",
      " 10  aisle_id                int64   \n",
      " 11  department_id           int64   \n",
      " 12  prices                  float64 \n",
      " 13  price_range_loc         object  \n",
      " 14  busiest day             object  \n",
      " 15  busiest days            object  \n",
      " 16  busiest_period_of_day   object  \n",
      " 17  max_order               int64   \n",
      " 18  loyalty_flag            object  \n",
      " 19  average_price           float64 \n",
      " 20  spending_flag           object  \n",
      " 21  median                  float64 \n",
      " 22  frequency_flag          object  \n",
      " 23  Gender                  object  \n",
      " 24  State                   object  \n",
      " 25  Age                     int64   \n",
      " 26  date_joined             object  \n",
      " 27  Number_of_dependants    int64   \n",
      " 28  Family_Status           object  \n",
      " 29  income                  int64   \n",
      " 30  Region                  object  \n",
      " 31  Activity flag           object  \n",
      " 32  department              object  \n",
      " 33  _merge                  category\n",
      " 34  Age_group               object  \n",
      " 35  Income_group            object  \n",
      " 36  Dependants_group        object  \n",
      " 37  profile_flag            object  \n",
      " 38  customer_profile        object  \n",
      "dtypes: category(1), float64(4), int64(13), object(21)\n",
      "memory usage: 8.8+ GB\n"
     ]
    }
   ],
   "source": [
    "# Displays the column names and the data types\n",
    "\n",
    "df_opd.info()"
   ]
  },
  {
   "cell_type": "markdown",
   "id": "d3d4e51c",
   "metadata": {},
   "source": [
    "# 7. Comparing the customer profiles with region and department"
   ]
  },
  {
   "cell_type": "markdown",
   "id": "1d4b8e41",
   "metadata": {},
   "source": [
    "# Customer profiles with Region"
   ]
  },
  {
   "cell_type": "code",
   "execution_count": 185,
   "id": "16527e94",
   "metadata": {},
   "outputs": [],
   "source": [
    "# Group by profile_flag and region\n",
    "cust_profile1_region = df_opd.groupby(['profile_flag', 'Region']).size().unstack()"
   ]
  },
  {
   "cell_type": "code",
   "execution_count": 186,
   "id": "db71ed3e",
   "metadata": {},
   "outputs": [
    {
     "data": {
      "text/html": [
       "<div>\n",
       "<style scoped>\n",
       "    .dataframe tbody tr th:only-of-type {\n",
       "        vertical-align: middle;\n",
       "    }\n",
       "\n",
       "    .dataframe tbody tr th {\n",
       "        vertical-align: top;\n",
       "    }\n",
       "\n",
       "    .dataframe thead th {\n",
       "        text-align: right;\n",
       "    }\n",
       "</style>\n",
       "<table border=\"1\" class=\"dataframe\">\n",
       "  <thead>\n",
       "    <tr style=\"text-align: right;\">\n",
       "      <th>Region</th>\n",
       "      <th>Midwest</th>\n",
       "      <th>Northeast</th>\n",
       "      <th>South</th>\n",
       "      <th>West</th>\n",
       "    </tr>\n",
       "    <tr>\n",
       "      <th>profile_flag</th>\n",
       "      <th></th>\n",
       "      <th></th>\n",
       "      <th></th>\n",
       "      <th></th>\n",
       "    </tr>\n",
       "  </thead>\n",
       "  <tbody>\n",
       "    <tr>\n",
       "      <th>adult without dependants</th>\n",
       "      <td>589855</td>\n",
       "      <td>405554</td>\n",
       "      <td>799017</td>\n",
       "      <td>639409</td>\n",
       "    </tr>\n",
       "    <tr>\n",
       "      <th>married adult with dependants</th>\n",
       "      <td>1733214</td>\n",
       "      <td>1303165</td>\n",
       "      <td>2382454</td>\n",
       "      <td>1872282</td>\n",
       "    </tr>\n",
       "    <tr>\n",
       "      <th>married older adult with dependants</th>\n",
       "      <td>1838245</td>\n",
       "      <td>1405462</td>\n",
       "      <td>2644107</td>\n",
       "      <td>2041419</td>\n",
       "    </tr>\n",
       "    <tr>\n",
       "      <th>married young adult with dependants</th>\n",
       "      <td>1515803</td>\n",
       "      <td>1145146</td>\n",
       "      <td>2197188</td>\n",
       "      <td>1665226</td>\n",
       "    </tr>\n",
       "    <tr>\n",
       "      <th>older adult without dependants</th>\n",
       "      <td>617198</td>\n",
       "      <td>478767</td>\n",
       "      <td>877314</td>\n",
       "      <td>671992</td>\n",
       "    </tr>\n",
       "    <tr>\n",
       "      <th>young adult with dependants</th>\n",
       "      <td>351435</td>\n",
       "      <td>256430</td>\n",
       "      <td>505457</td>\n",
       "      <td>367850</td>\n",
       "    </tr>\n",
       "    <tr>\n",
       "      <th>young adult without dependants</th>\n",
       "      <td>615763</td>\n",
       "      <td>470161</td>\n",
       "      <td>905602</td>\n",
       "      <td>669049</td>\n",
       "    </tr>\n",
       "  </tbody>\n",
       "</table>\n",
       "</div>"
      ],
      "text/plain": [
       "Region                               Midwest  Northeast    South     West\n",
       "profile_flag                                                             \n",
       "adult without dependants              589855     405554   799017   639409\n",
       "married adult with dependants        1733214    1303165  2382454  1872282\n",
       "married older adult with dependants  1838245    1405462  2644107  2041419\n",
       "married young adult with dependants  1515803    1145146  2197188  1665226\n",
       "older adult without dependants        617198     478767   877314   671992\n",
       "young adult with dependants           351435     256430   505457   367850\n",
       "young adult without dependants        615763     470161   905602   669049"
      ]
     },
     "execution_count": 186,
     "metadata": {},
     "output_type": "execute_result"
    }
   ],
   "source": [
    "cust_profile1_region"
   ]
  },
  {
   "cell_type": "code",
   "execution_count": 187,
   "id": "373b3d16",
   "metadata": {},
   "outputs": [
    {
     "data": {
      "image/png": "[encoded data removed]",
      "text/plain": [
       "<Figure size 640x480 with 1 Axes>"
      ]
     },
     "metadata": {},
     "output_type": "display_data"
    }
   ],
   "source": [
    "# Creating a bar chart for profile_flag and region\n",
    "\n",
    "cust_profile1_region = cust_profile1_region.plot.bar(stacked = True, title = 'Comparison 1.png')"
   ]
  },
  {
   "cell_type": "code",
   "execution_count": 188,
   "id": "6053857d",
   "metadata": {},
   "outputs": [],
   "source": [
    "# Exporting the bar chart\n",
    "\n",
    "cust_profile1_region.figure.savefig(os.path.join(path, 'Analysis', 'Visualizations', 'profile1_region.png'))"
   ]
  },
  {
   "cell_type": "code",
   "execution_count": 189,
   "id": "f684b76d",
   "metadata": {},
   "outputs": [],
   "source": [
    "# Group by customer profile and region\n",
    "\n",
    "cust_profile2_region = df_opd.groupby(['customer_profile', 'Region']).size().unstack()"
   ]
  },
  {
   "cell_type": "code",
   "execution_count": 190,
   "id": "ec701531",
   "metadata": {},
   "outputs": [
    {
     "data": {
      "text/html": [
       "<div>\n",
       "<style scoped>\n",
       "    .dataframe tbody tr th:only-of-type {\n",
       "        vertical-align: middle;\n",
       "    }\n",
       "\n",
       "    .dataframe tbody tr th {\n",
       "        vertical-align: top;\n",
       "    }\n",
       "\n",
       "    .dataframe thead th {\n",
       "        text-align: right;\n",
       "    }\n",
       "</style>\n",
       "<table border=\"1\" class=\"dataframe\">\n",
       "  <thead>\n",
       "    <tr style=\"text-align: right;\">\n",
       "      <th>Region</th>\n",
       "      <th>Midwest</th>\n",
       "      <th>Northeast</th>\n",
       "      <th>South</th>\n",
       "      <th>West</th>\n",
       "    </tr>\n",
       "    <tr>\n",
       "      <th>customer_profile</th>\n",
       "      <th></th>\n",
       "      <th></th>\n",
       "      <th></th>\n",
       "      <th></th>\n",
       "    </tr>\n",
       "  </thead>\n",
       "  <tbody>\n",
       "    <tr>\n",
       "      <th>high income adult without dependants</th>\n",
       "      <td>6076</td>\n",
       "      <td>4553</td>\n",
       "      <td>11088</td>\n",
       "      <td>6985</td>\n",
       "    </tr>\n",
       "    <tr>\n",
       "      <th>high income married adult with dependants</th>\n",
       "      <td>18273</td>\n",
       "      <td>12145</td>\n",
       "      <td>21603</td>\n",
       "      <td>24415</td>\n",
       "    </tr>\n",
       "    <tr>\n",
       "      <th>high income married older adult with dependants</th>\n",
       "      <td>22897</td>\n",
       "      <td>13224</td>\n",
       "      <td>29346</td>\n",
       "      <td>19834</td>\n",
       "    </tr>\n",
       "    <tr>\n",
       "      <th>high income married young adult with dependants</th>\n",
       "      <td>5027</td>\n",
       "      <td>1750</td>\n",
       "      <td>10369</td>\n",
       "      <td>6595</td>\n",
       "    </tr>\n",
       "    <tr>\n",
       "      <th>high income older adult without dependants</th>\n",
       "      <td>5611</td>\n",
       "      <td>5313</td>\n",
       "      <td>7631</td>\n",
       "      <td>5872</td>\n",
       "    </tr>\n",
       "    <tr>\n",
       "      <th>high income young adult with dependants</th>\n",
       "      <td>629</td>\n",
       "      <td>508</td>\n",
       "      <td>1211</td>\n",
       "      <td>1710</td>\n",
       "    </tr>\n",
       "    <tr>\n",
       "      <th>high income young adult without dependants</th>\n",
       "      <td>5580</td>\n",
       "      <td>2613</td>\n",
       "      <td>2198</td>\n",
       "      <td>1086</td>\n",
       "    </tr>\n",
       "    <tr>\n",
       "      <th>low income adult without dependants</th>\n",
       "      <td>188100</td>\n",
       "      <td>142102</td>\n",
       "      <td>258344</td>\n",
       "      <td>210125</td>\n",
       "    </tr>\n",
       "    <tr>\n",
       "      <th>low income married adult with dependants</th>\n",
       "      <td>555863</td>\n",
       "      <td>424481</td>\n",
       "      <td>831185</td>\n",
       "      <td>648302</td>\n",
       "    </tr>\n",
       "    <tr>\n",
       "      <th>low income married older adult with dependants</th>\n",
       "      <td>525704</td>\n",
       "      <td>421092</td>\n",
       "      <td>805343</td>\n",
       "      <td>627578</td>\n",
       "    </tr>\n",
       "    <tr>\n",
       "      <th>low income married young adult with dependants</th>\n",
       "      <td>1464306</td>\n",
       "      <td>1110587</td>\n",
       "      <td>2123701</td>\n",
       "      <td>1614671</td>\n",
       "    </tr>\n",
       "    <tr>\n",
       "      <th>low income older adult without dependants</th>\n",
       "      <td>195820</td>\n",
       "      <td>139547</td>\n",
       "      <td>267465</td>\n",
       "      <td>196237</td>\n",
       "    </tr>\n",
       "    <tr>\n",
       "      <th>low income young adult with dependants</th>\n",
       "      <td>339433</td>\n",
       "      <td>251300</td>\n",
       "      <td>486556</td>\n",
       "      <td>356335</td>\n",
       "    </tr>\n",
       "    <tr>\n",
       "      <th>low income young adults without dependants</th>\n",
       "      <td>592194</td>\n",
       "      <td>459092</td>\n",
       "      <td>874600</td>\n",
       "      <td>647099</td>\n",
       "    </tr>\n",
       "    <tr>\n",
       "      <th>mid income adult without dependants</th>\n",
       "      <td>395679</td>\n",
       "      <td>258899</td>\n",
       "      <td>529585</td>\n",
       "      <td>422299</td>\n",
       "    </tr>\n",
       "    <tr>\n",
       "      <th>mid income married adult with dependants</th>\n",
       "      <td>1159078</td>\n",
       "      <td>866539</td>\n",
       "      <td>1529666</td>\n",
       "      <td>1199565</td>\n",
       "    </tr>\n",
       "    <tr>\n",
       "      <th>mid income married older adult with dependants</th>\n",
       "      <td>1289644</td>\n",
       "      <td>971146</td>\n",
       "      <td>1809418</td>\n",
       "      <td>1394007</td>\n",
       "    </tr>\n",
       "    <tr>\n",
       "      <th>mid income married young adult with dependants</th>\n",
       "      <td>46470</td>\n",
       "      <td>32809</td>\n",
       "      <td>63118</td>\n",
       "      <td>43960</td>\n",
       "    </tr>\n",
       "    <tr>\n",
       "      <th>mid income older adult without dependants</th>\n",
       "      <td>415767</td>\n",
       "      <td>333907</td>\n",
       "      <td>602218</td>\n",
       "      <td>469883</td>\n",
       "    </tr>\n",
       "    <tr>\n",
       "      <th>mid income young adult with dependants</th>\n",
       "      <td>11373</td>\n",
       "      <td>4622</td>\n",
       "      <td>17690</td>\n",
       "      <td>9805</td>\n",
       "    </tr>\n",
       "    <tr>\n",
       "      <th>mid income young adult without dependants</th>\n",
       "      <td>17989</td>\n",
       "      <td>8456</td>\n",
       "      <td>28804</td>\n",
       "      <td>20864</td>\n",
       "    </tr>\n",
       "  </tbody>\n",
       "</table>\n",
       "</div>"
      ],
      "text/plain": [
       "Region                                           Midwest  Northeast    South  \\\n",
       "customer_profile                                                               \n",
       "high income adult without dependants                6076       4553    11088   \n",
       "high income married adult with dependants          18273      12145    21603   \n",
       "high income married older adult with dependants    22897      13224    29346   \n",
       "high income married young adult with dependants     5027       1750    10369   \n",
       "high income older adult without dependants          5611       5313     7631   \n",
       "high income young adult with dependants              629        508     1211   \n",
       "high income young adult without dependants          5580       2613     2198   \n",
       "low income adult without dependants               188100     142102   258344   \n",
       "low income married adult with dependants          555863     424481   831185   \n",
       "low income married older adult with dependants    525704     421092   805343   \n",
       "low income married young adult with dependants   1464306    1110587  2123701   \n",
       "low income older adult without dependants         195820     139547   267465   \n",
       "low income young adult with dependants            339433     251300   486556   \n",
       "low income young adults without dependants        592194     459092   874600   \n",
       "mid income adult without dependants               395679     258899   529585   \n",
       "mid income married adult with dependants         1159078     866539  1529666   \n",
       "mid income married older adult with dependants   1289644     971146  1809418   \n",
       "mid income married young adult with dependants     46470      32809    63118   \n",
       "mid income older adult without dependants         415767     333907   602218   \n",
       "mid income young adult with dependants             11373       4622    17690   \n",
       "mid income young adult without dependants          17989       8456    28804   \n",
       "\n",
       "Region                                              West  \n",
       "customer_profile                                          \n",
       "high income adult without dependants                6985  \n",
       "high income married adult with dependants          24415  \n",
       "high income married older adult with dependants    19834  \n",
       "high income married young adult with dependants     6595  \n",
       "high income older adult without dependants          5872  \n",
       "high income young adult with dependants             1710  \n",
       "high income young adult without dependants          1086  \n",
       "low income adult without dependants               210125  \n",
       "low income married adult with dependants          648302  \n",
       "low income married older adult with dependants    627578  \n",
       "low income married young adult with dependants   1614671  \n",
       "low income older adult without dependants         196237  \n",
       "low income young adult with dependants            356335  \n",
       "low income young adults without dependants        647099  \n",
       "mid income adult without dependants               422299  \n",
       "mid income married adult with dependants         1199565  \n",
       "mid income married older adult with dependants   1394007  \n",
       "mid income married young adult with dependants     43960  \n",
       "mid income older adult without dependants         469883  \n",
       "mid income young adult with dependants              9805  \n",
       "mid income young adult without dependants          20864  "
      ]
     },
     "execution_count": 190,
     "metadata": {},
     "output_type": "execute_result"
    }
   ],
   "source": [
    "cust_profile2_region"
   ]
  },
  {
   "cell_type": "code",
   "execution_count": 191,
   "id": "9215ebd9",
   "metadata": {},
   "outputs": [
    {
     "data": {
      "image/png": "[encoded data removed]",
      "text/plain": [
       "<Figure size 640x480 with 1 Axes>"
      ]
     },
     "metadata": {},
     "output_type": "display_data"
    }
   ],
   "source": [
    "# Create a bar chart for customer profile and region\n",
    "\n",
    "cust_profile2_region = cust_profile2_region.plot.bar(stacked = True, title = 'Comparison 2.png')"
   ]
  },
  {
   "cell_type": "code",
   "execution_count": 192,
   "id": "acbd24fd",
   "metadata": {},
   "outputs": [],
   "source": [
    "# Exporting the bar chart\n",
    "\n",
    "cust_profile2_region.figure.savefig(os.path.join(path, 'Analysis', 'Visualizations', 'profile2_region.png'))"
   ]
  },
  {
   "cell_type": "markdown",
   "id": "a0f01305",
   "metadata": {},
   "source": [
    "# The above chart illustrates that West region are on top when comparing the customer profile and regions, which is then followed by the South region."
   ]
  },
  {
   "cell_type": "markdown",
   "id": "5f82298d",
   "metadata": {},
   "source": [
    "# Customer profiles by department"
   ]
  },
  {
   "cell_type": "code",
   "execution_count": 193,
   "id": "0ce11437",
   "metadata": {},
   "outputs": [],
   "source": [
    "# Group by profile_flag and department\n",
    "\n",
    "cust_profile1_dept = df_opd.groupby(['profile_flag', 'department']).size().unstack()"
   ]
  },
  {
   "cell_type": "code",
   "execution_count": 195,
   "id": "a8190f1d",
   "metadata": {},
   "outputs": [
    {
     "data": {
      "image/png": "[encoded data removed]",
      "text/plain": [
       "<Figure size 640x480 with 1 Axes>"
      ]
     },
     "metadata": {},
     "output_type": "display_data"
    }
   ],
   "source": [
    "# Create a bar chart for profile_flag and department\n",
    "\n",
    "cust_profile1_dept = cust_profile1_dept.plot.bar(stacked = True, title = 'Comparison 3.png')"
   ]
  },
  {
   "cell_type": "code",
   "execution_count": 202,
   "id": "efa4abe6",
   "metadata": {},
   "outputs": [],
   "source": [
    "# Group by customer profile and department\n",
    "\n",
    "cust_profile2_dept = df_opd.groupby(['customer_profile', 'department']).size().unstack()"
   ]
  },
  {
   "cell_type": "code",
   "execution_count": 203,
   "id": "d8fced4d",
   "metadata": {},
   "outputs": [
    {
     "data": {
      "image/png": "[encoded data removed]",
      "text/plain": [
       "<Figure size 640x480 with 1 Axes>"
      ]
     },
     "metadata": {},
     "output_type": "display_data"
    }
   ],
   "source": [
    "# Create a bar chart for customer_profile and department\n",
    "\n",
    "cust_profile2_dept = cust_profile2_dept.plot.bar(stacked = True, title = 'Comparison 4.png')\n"
   ]
  },
  {
   "cell_type": "code",
   "execution_count": 204,
   "id": "128113b1",
   "metadata": {},
   "outputs": [],
   "source": [
    "# Exporting bar charts\n",
    "\n",
    "cust_profile1_dept.figure.savefig(os.path.join(path, 'Analysis', 'Visualizations', 'profile1_dept.png'))"
   ]
  },
  {
   "cell_type": "code",
   "execution_count": 205,
   "id": "710201aa",
   "metadata": {},
   "outputs": [],
   "source": [
    "cust_profile2_dept.figure.savefig(os.path.join(path, 'Analysis', 'Visualizations', 'profile2_dept.png'))"
   ]
  },
  {
   "cell_type": "markdown",
   "id": "58365d72",
   "metadata": {},
   "source": [
    "# The above chart illustrates that Snacks and the Produce department are the top departments, especially for the 'married' group with low and middle income."
   ]
  }
 ],
 "metadata": {
  "kernelspec": {
   "display_name": "Python 3 (ipykernel)",
   "language": "python",
   "name": "python3"
  },
  "language_info": {
   "codemirror_mode": {
    "name": "ipython",
    "version": 3
   },
   "file_extension": ".py",
   "mimetype": "text/x-python",
   "name": "python",
   "nbconvert_exporter": "python",
   "pygments_lexer": "ipython3",
   "version": "3.11.5"
  }
 },
 "nbformat": 4,
 "nbformat_minor": 5
}
